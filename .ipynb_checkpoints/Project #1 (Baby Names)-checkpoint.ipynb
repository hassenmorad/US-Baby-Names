{
 "cells": [
  {
   "cell_type": "markdown",
   "metadata": {},
   "source": [
    "# Exploring Baby Names Dataset"
   ]
  },
  {
   "cell_type": "markdown",
   "metadata": {},
   "source": [
    "*I will explore a few issues not previously addressed on Kaggle's US baby names thread: https://www.kaggle.com/kaggle/us-baby-names/kernels \n",
    "\n",
    "\\**Visualizations were created with Altair and Matplotlib. Initial plotting was done with Matplotlib; however, I sought more functionality, which led me to experiment with Altair (which is why Altair plots usually follow Matplotlib plots in this notebook). I also made a choropleth map using Plotly at the very end. (Note: plot interactivity isn't active in github's rendering of the notebook)"
   ]
  },
  {
   "cell_type": "markdown",
   "metadata": {},
   "source": [
    "-------------------------------------------------------------------------------------------------------------------------"
   ]
  },
  {
   "cell_type": "markdown",
   "metadata": {},
   "source": [
    "## Areas of Inquiry:\n",
    "### (1) Names Become More/Less Unique?\n",
    "\\*Does the average count per name shift in different periods of the 20th century?\n",
    "### (2) Syllable Count Shift? \n",
    "\\*Do any patterns emerge regarding syllable counts of names throughout the decades?\n",
    "### (3) Trendsetting States? \n",
    "\\*Are certain states national trendsetters for popular names? \n",
    "##### I approached answering this question in two ways: \n",
    "- Counting the number of times a popular name reaches it's peak popularity in a state before other states\n",
    "\n",
    "- Calculating the average number of years a state reaches peak name popularity before/after the national median peak popularity (for popular names)"
   ]
  },
  {
   "cell_type": "markdown",
   "metadata": {},
   "source": [
    "-------------------------------------------------------------------------------------------------------------------------"
   ]
  },
  {
   "cell_type": "markdown",
   "metadata": {},
   "source": [
    "## Results Sneak Peak:\n",
    "[1] Names were 3x more unique at the beginning of the 20th & 21st centuries than in the middle of the 20th century \n",
    "\n",
    "[2] The Mountain/Midwest regions contain the status furthest ahead of naming trends, while the South/Southwest regions contain the states furthest behind naming trends\n",
    "\n",
    "[3] Name syllable counts increased over time for boys & girls (both by about 0.65 syllables from 1880-2017)"
   ]
  },
  {
   "cell_type": "markdown",
   "metadata": {},
   "source": [
    "-------------------------------------------------------------------------------------------------------------------------"
   ]
  },
  {
   "cell_type": "markdown",
   "metadata": {},
   "source": [
    "## Data Sources:  \n",
    "\n",
    "(1) Annual populations of each state (from 1900-2017)   \n",
    "\\* Source: St. Louis Federal Reserve (https://fred.stlouisfed.org/release?rid=118&t=state&ob=pv&od=desc)\n",
    "\n",
    "(2) Annual name counts of newborns from a particular state (1910-2017)\n",
    "\n",
    "\\* Source: Social Security Administration (https://www.ssa.gov/OACT/babynames/limits.html) \n",
    "\n",
    "(3) Annual national name counts (1880-2017) (same source as #2 above)"
   ]
  },
  {
   "cell_type": "markdown",
   "metadata": {},
   "source": [
    "-------------------------------------------------------------------------------------------------------------------------"
   ]
  },
  {
   "cell_type": "markdown",
   "metadata": {},
   "source": [
    "### Data Wrangling:"
   ]
  },
  {
   "cell_type": "code",
   "execution_count": 1,
   "metadata": {},
   "outputs": [],
   "source": [
    "import pandas as pd\n",
    "import os\n",
    "import numpy as np\n",
    "import matplotlib.pyplot as plt\n",
    "%matplotlib inline"
   ]
  },
  {
   "cell_type": "code",
   "execution_count": 2,
   "metadata": {},
   "outputs": [],
   "source": [
    "#Df containing annual population for each state from 1900-2017\n",
    "pops = pd.read_csv('../baby_names/data/state_pops.csv')\n",
    "\n",
    "#Removing rows containing populations from 1900-1909 (since data on state name counts begins from 1910)\n",
    "pops = pops[10:]\n",
    "pops.reset_index(drop=True, inplace=True)"
   ]
  },
  {
   "cell_type": "code",
   "execution_count": 3,
   "metadata": {},
   "outputs": [],
   "source": [
    "#List of csv files (each of which contains annual name counts of newborns from a particular state- 1910-2017)\n",
    "names_csv = [file for file in os.listdir('../baby_names/data/namesbystate')]\n",
    "names_csv.remove('StateReadMe.pdf')"
   ]
  },
  {
   "cell_type": "code",
   "execution_count": 4,
   "metadata": {},
   "outputs": [],
   "source": [
    "#Dictionary storing state names df's (converted from name_csv)\n",
    "names_dict = {}\n",
    "for file in names_csv:\n",
    "    value = pd.read_csv(f'../baby_names/data/namesbystate/{file}')\n",
    "    value = value.sort_values(by=['Year','Sex', 'Count', 'Name'], ascending=[True, True, False, True])\n",
    "    key = file.replace('.TXT', '')\n",
    "    names_dict[key] = value"
   ]
  },
  {
   "cell_type": "code",
   "execution_count": 5,
   "metadata": {},
   "outputs": [],
   "source": [
    "#List of state abreviations (will also be used later to convert column headings of pops df to abreviated state names)\n",
    "states_abrev = list(names_dict.keys())    \n",
    "\n",
    "#Concatenating all df's from names_dict into one df (all_states)\n",
    "dfs = [names_dict[state] for state in states_abrev]\n",
    "all_states = pd.concat(dfs, ignore_index=True)\n",
    "all_states = all_states.reset_index(drop=True)"
   ]
  },
  {
   "cell_type": "code",
   "execution_count": 6,
   "metadata": {},
   "outputs": [],
   "source": [
    "#Replacing pops column headers containing state names (from full names to abreviations) \n",
    "states_abrev.insert(0,'Year')\n",
    "pops.columns = states_abrev\n",
    "states_abrev.remove('Year')"
   ]
  },
  {
   "cell_type": "code",
   "execution_count": 7,
   "metadata": {},
   "outputs": [],
   "source": [
    "#Dictionary storing annual population of a particular state & year \n",
    "#(to reference when populating array below) \n",
    "#(e.g. annual_pop['CA'][2017] -> 39.536653)\n",
    "annual_pop = {}\n",
    "for state in states_abrev:\n",
    "    statedict = {}\n",
    "    for year in range(1910, 2018):\n",
    "        statedict[year] = pops[state][pops['Year'] == year].iloc[0]\n",
    "    annual_pop[state] = statedict"
   ]
  },
  {
   "cell_type": "code",
   "execution_count": 8,
   "metadata": {},
   "outputs": [],
   "source": [
    "#Populates array w/ population corresponding to particular state/year (from annual_pop, above)\n",
    "#(takes almost 1.5 mins -> needs more efficient solution) \n",
    "array = np.array([])\n",
    "for state in states_abrev:\n",
    "    #temp df; purpose is to populate array w/ correct # of corresponding population values \n",
    "    #before assigning to new all_states['Population'], below\n",
    "    df = names_dict[state].copy()\n",
    "    df['Population'] = pd.Series()\n",
    "    for year in range(1910,2018):\n",
    "        pop = annual_pop[state][year]\n",
    "        length = len(df[df['Year'] == year])\n",
    "        value = np.full(length, pop)\n",
    "        array = np.append(array, value)      "
   ]
  },
  {
   "cell_type": "code",
   "execution_count": 9,
   "metadata": {},
   "outputs": [],
   "source": [
    "#Creating 'Population' column\n",
    "all_states['Population'] = array"
   ]
  },
  {
   "cell_type": "markdown",
   "metadata": {},
   "source": [
    "### Normalizing Name Counts"
   ]
  },
  {
   "cell_type": "code",
   "execution_count": 10,
   "metadata": {},
   "outputs": [],
   "source": [
    "all_states['Normalized_Count'] = all_states['Count'] / all_states['Population']"
   ]
  },
  {
   "cell_type": "markdown",
   "metadata": {},
   "source": [
    "### Annual National Name Counts\n",
    "*Purpose of extracting data below is to determine the top 10 names (nationally) in each decade"
   ]
  },
  {
   "cell_type": "code",
   "execution_count": 11,
   "metadata": {},
   "outputs": [],
   "source": [
    "#List of csv files (each of which contains annual name counts of newborns from a particular state)\n",
    "national_csv = [file for file in os.listdir('../baby_names/data/names')]\n",
    "national_csv.remove('NationalReadMe.pdf')"
   ]
  },
  {
   "cell_type": "code",
   "execution_count": 12,
   "metadata": {},
   "outputs": [],
   "source": [
    "#Dictionary storing df's of annual national name counts (converted from national_csv files)\n",
    "#(keys = years, from 1880-2017; M & F values included together each year key's values)\n",
    "nat_names_dict = {}\n",
    "for file in national_csv:\n",
    "    df = pd.read_csv(f'../baby_names/data/names/{file}')\n",
    "    df.columns = ['Name', 'Sex', 'Count']\n",
    "    df = df.sort_values(by=['Sex', 'Count', 'Name'], ascending=[True, False, True])\n",
    "    key = int(file.replace('yob','').replace('.txt', ''))\n",
    "    df['Year'] = pd.Series(np.full(len(df), key))\n",
    "    nat_names_dict[key] = df"
   ]
  },
  {
   "cell_type": "markdown",
   "metadata": {},
   "source": [
    "-------------------------------------------------------------------------------------------------------------------------"
   ]
  },
  {
   "cell_type": "markdown",
   "metadata": {},
   "source": [
    "## (1) Measuring Name Uniqueness (1880-2017)\n",
    "*Comparing the avg. number of times a name was given to a child per year (1880-2017)\n",
    "\n",
    "\\**Higher values indicate higher levels of conformity; lower values indicate greater uniqueness in naming"
   ]
  },
  {
   "cell_type": "code",
   "execution_count": 13,
   "metadata": {},
   "outputs": [],
   "source": [
    "name_variability = {}\n",
    "for year in range(1880,2018):\n",
    "    data = nat_names_dict[year]\n",
    "    df = data[data['Year']==year]\n",
    "    variability = sum(df.Count)/len(df)\n",
    "    name_variability[year] = round(variability)"
   ]
  },
  {
   "cell_type": "code",
   "execution_count": 14,
   "metadata": {},
   "outputs": [],
   "source": [
    "df = pd.DataFrame({'Year':list(name_variability.keys()), 'Count':list(name_variability.values())})\n",
    "yrs = [str(year) for year in df['Year']]\n",
    "df['Year'] = pd.to_datetime(yrs)"
   ]
  },
  {
   "cell_type": "code",
   "execution_count": 15,
   "metadata": {},
   "outputs": [],
   "source": [
    "import altair as alt\n",
    "base = alt.Chart(df).encode(\n",
    "    x=alt.X('Year', axis=alt.Axis(format='%Y', grid=True)),\n",
    "    y=alt.Y('Count', title='Avg Name Count', axis=alt.Axis(grid=False))\n",
    "    ).properties(width=900, \n",
    "                 height=500, \n",
    "                 title='Average Name Count (Annually)')\n",
    "\n",
    "line = base.mark_line()\n",
    "\n",
    "points = base.mark_point().encode(\n",
    "    tooltip=['Year', 'Count'])\n",
    "\n",
    "chart = line + points"
   ]
  },
  {
   "cell_type": "markdown",
   "metadata": {},
   "source": [
    "#### Altair Plot:\n",
    "*Interactive: scroll over points to view year & count"
   ]
  },
  {
   "cell_type": "code",
   "execution_count": 16,
   "metadata": {},
   "outputs": [
    {
     "data": {
      "application/vnd.vegalite.v2+json": {
       "$schema": "https://vega.github.io/schema/vega-lite/v2.6.0.json",
       "config": {
        "view": {
         "height": 300,
         "width": 400
        }
       },
       "datasets": {
        "data-8895f4e10b1fe0f02da801dcba9aadbe": [
         {
          "Count": 97,
          "Year": "1880-01-01T00:00:00"
         },
         {
          "Count": 96,
          "Year": "1881-01-01T00:00:00"
         },
         {
          "Count": 100,
          "Year": "1882-01-01T00:00:00"
         },
         {
          "Count": 100,
          "Year": "1883-01-01T00:00:00"
         },
         {
          "Count": 102,
          "Year": "1884-01-01T00:00:00"
         },
         {
          "Count": 101,
          "Year": "1885-01-01T00:00:00"
         },
         {
          "Count": 103,
          "Year": "1886-01-01T00:00:00"
         },
         {
          "Count": 100,
          "Year": "1887-01-01T00:00:00"
         },
         {
          "Count": 109,
          "Year": "1888-01-01T00:00:00"
         },
         {
          "Count": 107,
          "Year": "1889-01-01T00:00:00"
         },
         {
          "Count": 107,
          "Year": "1890-01-01T00:00:00"
         },
         {
          "Count": 103,
          "Year": "1891-01-01T00:00:00"
         },
         {
          "Count": 110,
          "Year": "1892-01-01T00:00:00"
         },
         {
          "Count": 110,
          "Year": "1893-01-01T00:00:00"
         },
         {
          "Count": 111,
          "Year": "1894-01-01T00:00:00"
         },
         {
          "Count": 111,
          "Year": "1895-01-01T00:00:00"
         },
         {
          "Count": 111,
          "Year": "1896-01-01T00:00:00"
         },
         {
          "Count": 110,
          "Year": "1897-01-01T00:00:00"
         },
         {
          "Count": 112,
          "Year": "1898-01-01T00:00:00"
         },
         {
          "Count": 107,
          "Year": "1899-01-01T00:00:00"
         },
         {
          "Count": 116,
          "Year": "1900-01-01T00:00:00"
         },
         {
          "Count": 106,
          "Year": "1901-01-01T00:00:00"
         },
         {
          "Count": 111,
          "Year": "1902-01-01T00:00:00"
         },
         {
          "Count": 108,
          "Year": "1903-01-01T00:00:00"
         },
         {
          "Count": 109,
          "Year": "1904-01-01T00:00:00"
         },
         {
          "Count": 112,
          "Year": "1905-01-01T00:00:00"
         },
         {
          "Count": 113,
          "Year": "1906-01-01T00:00:00"
         },
         {
          "Count": 113,
          "Year": "1907-01-01T00:00:00"
         },
         {
          "Count": 117,
          "Year": "1908-01-01T00:00:00"
         },
         {
          "Count": 116,
          "Year": "1909-01-01T00:00:00"
         },
         {
          "Count": 123,
          "Year": "1910-01-01T00:00:00"
         },
         {
          "Count": 127,
          "Year": "1911-01-01T00:00:00"
         },
         {
          "Count": 151,
          "Year": "1912-01-01T00:00:00"
         },
         {
          "Count": 158,
          "Year": "1913-01-01T00:00:00"
         },
         {
          "Count": 172,
          "Year": "1914-01-01T00:00:00"
         },
         {
          "Count": 190,
          "Year": "1915-01-01T00:00:00"
         },
         {
          "Count": 193,
          "Year": "1916-01-01T00:00:00"
         },
         {
          "Count": 196,
          "Year": "1917-01-01T00:00:00"
         },
         {
          "Count": 202,
          "Year": "1918-01-01T00:00:00"
         },
         {
          "Count": 197,
          "Year": "1919-01-01T00:00:00"
         },
         {
          "Count": 204,
          "Year": "1920-01-01T00:00:00"
         },
         {
          "Count": 208,
          "Year": "1921-01-01T00:00:00"
         },
         {
          "Count": 206,
          "Year": "1922-01-01T00:00:00"
         },
         {
          "Count": 210,
          "Year": "1923-01-01T00:00:00"
         },
         {
          "Count": 212,
          "Year": "1924-01-01T00:00:00"
         },
         {
          "Count": 213,
          "Year": "1925-01-01T00:00:00"
         },
         {
          "Count": 213,
          "Year": "1926-01-01T00:00:00"
         },
         {
          "Count": 216,
          "Year": "1927-01-01T00:00:00"
         },
         {
          "Count": 216,
          "Year": "1928-01-01T00:00:00"
         },
         {
          "Count": 217,
          "Year": "1929-01-01T00:00:00"
         },
         {
          "Count": 221,
          "Year": "1930-01-01T00:00:00"
         },
         {
          "Count": 220,
          "Year": "1931-01-01T00:00:00"
         },
         {
          "Count": 219,
          "Year": "1932-01-01T00:00:00"
         },
         {
          "Count": 216,
          "Year": "1933-01-01T00:00:00"
         },
         {
          "Count": 220,
          "Year": "1934-01-01T00:00:00"
         },
         {
          "Count": 225,
          "Year": "1935-01-01T00:00:00"
         },
         {
          "Count": 228,
          "Year": "1936-01-01T00:00:00"
         },
         {
          "Count": 232,
          "Year": "1937-01-01T00:00:00"
         },
         {
          "Count": 239,
          "Year": "1938-01-01T00:00:00"
         },
         {
          "Count": 241,
          "Year": "1939-01-01T00:00:00"
         },
         {
          "Count": 251,
          "Year": "1940-01-01T00:00:00"
         },
         {
          "Count": 262,
          "Year": "1941-01-01T00:00:00"
         },
         {
          "Count": 283,
          "Year": "1942-01-01T00:00:00"
         },
         {
          "Count": 293,
          "Year": "1943-01-01T00:00:00"
         },
         {
          "Count": 287,
          "Year": "1944-01-01T00:00:00"
         },
         {
          "Count": 287,
          "Year": "1945-01-01T00:00:00"
         },
         {
          "Count": 322,
          "Year": "1946-01-01T00:00:00"
         },
         {
          "Count": 338,
          "Year": "1947-01-01T00:00:00"
         },
         {
          "Count": 328,
          "Year": "1948-01-01T00:00:00"
         },
         {
          "Count": 331,
          "Year": "1949-01-01T00:00:00"
         },
         {
          "Count": 332,
          "Year": "1950-01-01T00:00:00"
         },
         {
          "Count": 345,
          "Year": "1951-01-01T00:00:00"
         },
         {
          "Count": 351,
          "Year": "1952-01-01T00:00:00"
         },
         {
          "Count": 350,
          "Year": "1953-01-01T00:00:00"
         },
         {
          "Count": 357,
          "Year": "1954-01-01T00:00:00"
         },
         {
          "Count": 356,
          "Year": "1955-01-01T00:00:00"
         },
         {
          "Count": 358,
          "Year": "1956-01-01T00:00:00"
         },
         {
          "Count": 358,
          "Year": "1957-01-01T00:00:00"
         },
         {
          "Count": 354,
          "Year": "1958-01-01T00:00:00"
         },
         {
          "Count": 349,
          "Year": "1959-01-01T00:00:00"
         },
         {
          "Count": 344,
          "Year": "1960-01-01T00:00:00"
         },
         {
          "Count": 336,
          "Year": "1961-01-01T00:00:00"
         },
         {
          "Count": 327,
          "Year": "1962-01-01T00:00:00"
         },
         {
          "Count": 318,
          "Year": "1963-01-01T00:00:00"
         },
         {
          "Count": 309,
          "Year": "1964-01-01T00:00:00"
         },
         {
          "Count": 298,
          "Year": "1965-01-01T00:00:00"
         },
         {
          "Count": 281,
          "Year": "1966-01-01T00:00:00"
         },
         {
          "Count": 270,
          "Year": "1967-01-01T00:00:00"
         },
         {
          "Count": 257,
          "Year": "1968-01-01T00:00:00"
         },
         {
          "Count": 250,
          "Year": "1969-01-01T00:00:00"
         },
         {
          "Count": 241,
          "Year": "1970-01-01T00:00:00"
         },
         {
          "Count": 221,
          "Year": "1971-01-01T00:00:00"
         },
         {
          "Count": 200,
          "Year": "1972-01-01T00:00:00"
         },
         {
          "Count": 188,
          "Year": "1973-01-01T00:00:00"
         },
         {
          "Count": 183,
          "Year": "1974-01-01T00:00:00"
         },
         {
          "Count": 175,
          "Year": "1975-01-01T00:00:00"
         },
         {
          "Count": 171,
          "Year": "1976-01-01T00:00:00"
         },
         {
          "Count": 172,
          "Year": "1977-01-01T00:00:00"
         },
         {
          "Count": 171,
          "Year": "1978-01-01T00:00:00"
         },
         {
          "Count": 172,
          "Year": "1979-01-01T00:00:00"
         },
         {
          "Count": 174,
          "Year": "1980-01-01T00:00:00"
         },
         {
          "Count": 175,
          "Year": "1981-01-01T00:00:00"
         },
         {
          "Count": 175,
          "Year": "1982-01-01T00:00:00"
         },
         {
          "Count": 176,
          "Year": "1983-01-01T00:00:00"
         },
         {
          "Count": 176,
          "Year": "1984-01-01T00:00:00"
         },
         {
          "Count": 175,
          "Year": "1985-01-01T00:00:00"
         },
         {
          "Count": 170,
          "Year": "1986-01-01T00:00:00"
         },
         {
          "Count": 166,
          "Year": "1987-01-01T00:00:00"
         },
         {
          "Count": 163,
          "Year": "1988-01-01T00:00:00"
         },
         {
          "Count": 160,
          "Year": "1989-01-01T00:00:00"
         },
         {
          "Count": 158,
          "Year": "1990-01-01T00:00:00"
         },
         {
          "Count": 153,
          "Year": "1991-01-01T00:00:00"
         },
         {
          "Count": 150,
          "Year": "1992-01-01T00:00:00"
         },
         {
          "Count": 144,
          "Year": "1993-01-01T00:00:00"
         },
         {
          "Count": 142,
          "Year": "1994-01-01T00:00:00"
         },
         {
          "Count": 139,
          "Year": "1995-01-01T00:00:00"
         },
         {
          "Count": 137,
          "Year": "1996-01-01T00:00:00"
         },
         {
          "Count": 133,
          "Year": "1997-01-01T00:00:00"
         },
         {
          "Count": 131,
          "Year": "1998-01-01T00:00:00"
         },
         {
          "Count": 128,
          "Year": "1999-01-01T00:00:00"
         },
         {
          "Count": 126,
          "Year": "2000-01-01T00:00:00"
         },
         {
          "Count": 123,
          "Year": "2001-01-01T00:00:00"
         },
         {
          "Count": 121,
          "Year": "2002-01-01T00:00:00"
         },
         {
          "Count": 121,
          "Year": "2003-01-01T00:00:00"
         },
         {
          "Count": 118,
          "Year": "2004-01-01T00:00:00"
         },
         {
          "Count": 117,
          "Year": "2005-01-01T00:00:00"
         },
         {
          "Count": 115,
          "Year": "2006-01-01T00:00:00"
         },
         {
          "Count": 114,
          "Year": "2007-01-01T00:00:00"
         },
         {
          "Count": 111,
          "Year": "2008-01-01T00:00:00"
         },
         {
          "Count": 109,
          "Year": "2009-01-01T00:00:00"
         },
         {
          "Count": 108,
          "Year": "2010-01-01T00:00:00"
         },
         {
          "Count": 107,
          "Year": "2011-01-01T00:00:00"
         },
         {
          "Count": 108,
          "Year": "2012-01-01T00:00:00"
         },
         {
          "Count": 109,
          "Year": "2013-01-01T00:00:00"
         },
         {
          "Count": 111,
          "Year": "2014-01-01T00:00:00"
         },
         {
          "Count": 111,
          "Year": "2015-01-01T00:00:00"
         },
         {
          "Count": 110,
          "Year": "2016-01-01T00:00:00"
         },
         {
          "Count": 109,
          "Year": "2017-01-01T00:00:00"
         }
        ]
       },
       "layer": [
        {
         "data": {
          "name": "data-8895f4e10b1fe0f02da801dcba9aadbe"
         },
         "encoding": {
          "x": {
           "axis": {
            "format": "%Y",
            "grid": true
           },
           "field": "Year",
           "type": "temporal"
          },
          "y": {
           "axis": {
            "grid": false
           },
           "field": "Count",
           "title": "Avg Name Count",
           "type": "quantitative"
          }
         },
         "height": 500,
         "mark": "line",
         "title": "Average Name Count (Annually)",
         "width": 900
        },
        {
         "data": {
          "name": "data-8895f4e10b1fe0f02da801dcba9aadbe"
         },
         "encoding": {
          "tooltip": [
           {
            "field": "Year",
            "type": "temporal"
           },
           {
            "field": "Count",
            "type": "quantitative"
           }
          ],
          "x": {
           "axis": {
            "format": "%Y",
            "grid": true
           },
           "field": "Year",
           "type": "temporal"
          },
          "y": {
           "axis": {
            "grid": false
           },
           "field": "Count",
           "title": "Avg Name Count",
           "type": "quantitative"
          }
         },
         "height": 500,
         "mark": "point",
         "title": "Average Name Count (Annually)",
         "width": 900
        }
       ]
      },
      "image/png": "[encoded data removed]",
      "text/plain": [
       "<VegaLite 2 object>\n",
       "\n",
       "If you see this message, it means the renderer has not been properly enabled\n",
       "for the frontend that you are using. For more information, see\n",
       "https://altair-viz.github.io/user_guide/troubleshooting.html\n"
      ]
     },
     "execution_count": 16,
     "metadata": {},
     "output_type": "execute_result"
    }
   ],
   "source": [
    "chart"
   ]
  },
  {
   "cell_type": "markdown",
   "metadata": {},
   "source": [
    "### Findings:\n",
    "(1) Major spike in conformity levels in the middle of the 20th century \n",
    "\n",
    "*Peak year was 1957, in which the avg. count per name was 358\n",
    "\n",
    "(2) Curiously clean bell curve over data spanning an entire century!"
   ]
  },
  {
   "cell_type": "markdown",
   "metadata": {},
   "source": [
    "-------------------------------------------------------------------------------------------------------------------------"
   ]
  },
  {
   "cell_type": "markdown",
   "metadata": {},
   "source": [
    "### Top 10 Names (Nationally) From Specified Decade"
   ]
  },
  {
   "cell_type": "code",
   "execution_count": 17,
   "metadata": {},
   "outputs": [],
   "source": [
    "#Dictionary containing all names that appeared in national top 10 in any year during a specified decade\n",
    "#Split into: M & F\n",
    "def top_10_potential(decade):\n",
    "    all_names = {}\n",
    "    for sex in ['M','F']:\n",
    "        names = []\n",
    "        \n",
    "        #Adding conditional to avoid error w/ 2010 decade data (since data only covers 2010-2017)\n",
    "        if decade == 2010:\n",
    "            span = 8\n",
    "        else:\n",
    "            span = 10\n",
    "            \n",
    "        #Extracting top 10 names from each year within a decade\n",
    "        for i in range(span):\n",
    "            df = nat_names_dict[decade+i]\n",
    "            df = df[df['Sex'] == sex].reset_index(drop=True)\n",
    "            top_10 = list(df.loc[:9, 'Name'])\n",
    "            new = [name for name in top_10 if name not in names]\n",
    "            names += new\n",
    "        #Stores list of potential names in relevant key (M or F) \n",
    "        all_names[sex] = names\n",
    "    return all_names"
   ]
  },
  {
   "cell_type": "code",
   "execution_count": 18,
   "metadata": {},
   "outputs": [],
   "source": [
    "#Returns list of decade's top 10 names (based on cumulative count)\n",
    "#(First parameter should be variable storing output of top_10_potential function- specifying M or F key)\n",
    "def top_10_confirm(decade):\n",
    "    potential = top_10_potential(decade)\n",
    "    counts = {}\n",
    "    \n",
    "    #Conditional to avoid error w/ 2010 decade data (since data only covers 2010-2017)\n",
    "    if decade == 2010:\n",
    "        span = 8\n",
    "    else:\n",
    "        span = 10\n",
    "        \n",
    "    for sex in ['M','F']:\n",
    "        names = {}\n",
    "        for year in range(decade, decade+span):\n",
    "            df = nat_names_dict[year]\n",
    "            for name in potential[sex]:\n",
    "                #Try/except averts error if name has no count in a particular year\n",
    "                try:\n",
    "                    count = df['Count'][(df['Sex'] == sex) & (df['Name'] == name)].iloc[0]\n",
    "                except Exception: \n",
    "                    count = 0\n",
    "                    \n",
    "                #Creates key for each name and assigns annual count in names dict \n",
    "                #(or increments count value for existing name key, doing this for every year in decade to arrive at total count)\n",
    "                if name in list(names.keys()):\n",
    "                    names[name] += count\n",
    "                else:\n",
    "                    names[name] = count\n",
    "        #Sorts names dict by values (ascending) and stores keys of top 10 names (corresponding to a particular sex) in counts dict\n",
    "        counts[sex] = sorted(names, key=names.get)[-10:]\n",
    "    return counts"
   ]
  },
  {
   "cell_type": "markdown",
   "metadata": {},
   "source": [
    "### National Top 10 Names List (any decade)"
   ]
  },
  {
   "cell_type": "code",
   "execution_count": 19,
   "metadata": {},
   "outputs": [],
   "source": [
    "#Dictionary containing all names that were one of the 10 most popular names nationally in any decade (1910-2020)\n",
    "#(not including 1880-1900 since state name data begins from 1910, which this dict was created to examine)\n",
    "#(split into M & F)\n",
    "trended = {}\n",
    "decades = list(np.arange(1910, 2020, 10))\n",
    "for sex in ['M','F']:\n",
    "    top_10 = []\n",
    "    for decade in decades:\n",
    "        names = top_10_confirm(decade)\n",
    "        new = [name for name in names[sex] if name not in top_10]\n",
    "        top_10 += new\n",
    "    trended[sex] = top_10"
   ]
  },
  {
   "cell_type": "markdown",
   "metadata": {},
   "source": [
    "### Tracking Syllable Counts (from 1880-2017)\n",
    "*Extracting all popular names and assigning a syllable count to each"
   ]
  },
  {
   "cell_type": "code",
   "execution_count": 20,
   "metadata": {},
   "outputs": [],
   "source": [
    "#Populating dictionary w/ names that appeared in top 10 from any year, categorized by sex & decade\n",
    "#Name keys are assigned empty values, which I will manually replace w/ syllable count below\n",
    "all_names_decades = {}\n",
    "decades = list(np.arange(1880, 2020, 10))\n",
    "for sex in ['M','F']:\n",
    "    names = {}\n",
    "    for decade in decades:\n",
    "        keys = top_10_potential(decade)[sex] \n",
    "        names[decade] = {key: None for key in keys} \n",
    "    all_names_decades[sex] = names"
   ]
  },
  {
   "cell_type": "markdown",
   "metadata": {},
   "source": [
    "### Identifying Unique Names From all_names_decades Dict"
   ]
  },
  {
   "cell_type": "code",
   "execution_count": 21,
   "metadata": {},
   "outputs": [],
   "source": [
    "#Dictionary containing unique male & female names from all_names_decades dictionary\n",
    "#(will manually assign syllable count in new dictionary) \n",
    "unique_names = {}\n",
    "decades = list(np.arange(1880,2020,10))\n",
    "for sex in ['M','F']:\n",
    "    original = []\n",
    "    for decade in decades:\n",
    "        names = top_10_potential(decade)[sex]\n",
    "        new = [name for name in names if name not in original]\n",
    "        original += new\n",
    "    unique_names[sex] = {key: None for key in original}"
   ]
  },
  {
   "cell_type": "markdown",
   "metadata": {},
   "source": [
    "##### *(will manually assign syllable count to unique names below)"
   ]
  },
  {
   "cell_type": "code",
   "execution_count": 22,
   "metadata": {},
   "outputs": [
    {
     "data": {
      "text/plain": [
       "{'F': {'Abigail': None,\n",
       "  'Addison': None,\n",
       "  'Alexis': None,\n",
       "  'Alice': None,\n",
       "  'Alyssa': None,\n",
       "  'Amanda': None,\n",
       "  'Amelia': None,\n",
       "  'Amy': None,\n",
       "  'Angela': None,\n",
       "  'Anna': None,\n",
       "  'Annie': None,\n",
       "  'Ashley': None,\n",
       "  'Ava': None,\n",
       "  'Barbara': None,\n",
       "  'Bertha': None,\n",
       "  'Bessie': None,\n",
       "  'Betty': None,\n",
       "  'Brenda': None,\n",
       "  'Brittany': None,\n",
       "  'Carol': None,\n",
       "  'Carolyn': None,\n",
       "  'Charlotte': None,\n",
       "  'Chloe': None,\n",
       "  'Clara': None,\n",
       "  'Crystal': None,\n",
       "  'Cynthia': None,\n",
       "  'Deborah': None,\n",
       "  'Debra': None,\n",
       "  'Donna': None,\n",
       "  'Doris': None,\n",
       "  'Dorothy': None,\n",
       "  'Edna': None,\n",
       "  'Elizabeth': None,\n",
       "  'Emily': None,\n",
       "  'Emma': None,\n",
       "  'Ethel': None,\n",
       "  'Evelyn': None,\n",
       "  'Florence': None,\n",
       "  'Frances': None,\n",
       "  'Gladys': None,\n",
       "  'Hannah': None,\n",
       "  'Harper': None,\n",
       "  'Heather': None,\n",
       "  'Helen': None,\n",
       "  'Ida': None,\n",
       "  'Isabella': None,\n",
       "  'Jennifer': None,\n",
       "  'Jessica': None,\n",
       "  'Joan': None,\n",
       "  'Joyce': None,\n",
       "  'Judith': None,\n",
       "  'Judy': None,\n",
       "  'Julie': None,\n",
       "  'Karen': None,\n",
       "  'Kathleen': None,\n",
       "  'Kayla': None,\n",
       "  'Kelly': None,\n",
       "  'Kimberly': None,\n",
       "  'Laura': None,\n",
       "  'Lauren': None,\n",
       "  'Lillian': None,\n",
       "  'Linda': None,\n",
       "  'Lisa': None,\n",
       "  'Lori': None,\n",
       "  'Madison': None,\n",
       "  'Margaret': None,\n",
       "  'Marie': None,\n",
       "  'Mary': None,\n",
       "  'Megan': None,\n",
       "  'Melissa': None,\n",
       "  'Mia': None,\n",
       "  'Michelle': None,\n",
       "  'Mildred': None,\n",
       "  'Minnie': None,\n",
       "  'Nancy': None,\n",
       "  'Nicole': None,\n",
       "  'Olivia': None,\n",
       "  'Pamela': None,\n",
       "  'Patricia': None,\n",
       "  'Rachel': None,\n",
       "  'Rebecca': None,\n",
       "  'Ruth': None,\n",
       "  'Samantha': None,\n",
       "  'Sandra': None,\n",
       "  'Sarah': None,\n",
       "  'Sharon': None,\n",
       "  'Shirley': None,\n",
       "  'Sophia': None,\n",
       "  'Stephanie': None,\n",
       "  'Susan': None,\n",
       "  'Tammy': None,\n",
       "  'Taylor': None,\n",
       "  'Tracy': None,\n",
       "  'Virginia': None},\n",
       " 'M': {'Aiden': None,\n",
       "  'Alexander': None,\n",
       "  'Andrew': None,\n",
       "  'Anthony': None,\n",
       "  'Austin': None,\n",
       "  'Benjamin': None,\n",
       "  'Brandon': None,\n",
       "  'Brian': None,\n",
       "  'Charles': None,\n",
       "  'Christopher': None,\n",
       "  'Daniel': None,\n",
       "  'David': None,\n",
       "  'Donald': None,\n",
       "  'Edward': None,\n",
       "  'Elijah': None,\n",
       "  'Ethan': None,\n",
       "  'Frank': None,\n",
       "  'Gary': None,\n",
       "  'George': None,\n",
       "  'Harry': None,\n",
       "  'Henry': None,\n",
       "  'Jacob': None,\n",
       "  'James': None,\n",
       "  'Jason': None,\n",
       "  'Jayden': None,\n",
       "  'Jeffrey': None,\n",
       "  'John': None,\n",
       "  'Joseph': None,\n",
       "  'Joshua': None,\n",
       "  'Justin': None,\n",
       "  'Larry': None,\n",
       "  'Liam': None,\n",
       "  'Logan': None,\n",
       "  'Mark': None,\n",
       "  'Mason': None,\n",
       "  'Matthew': None,\n",
       "  'Michael': None,\n",
       "  'Nicholas': None,\n",
       "  'Noah': None,\n",
       "  'Oliver': None,\n",
       "  'Richard': None,\n",
       "  'Robert': None,\n",
       "  'Ronald': None,\n",
       "  'Scott': None,\n",
       "  'Steven': None,\n",
       "  'Thomas': None,\n",
       "  'Tyler': None,\n",
       "  'Walter': None,\n",
       "  'William': None}}"
      ]
     },
     "execution_count": 22,
     "metadata": {},
     "output_type": "execute_result"
    }
   ],
   "source": [
    "unique_names"
   ]
  },
  {
   "cell_type": "markdown",
   "metadata": {},
   "source": [
    "### Assigning Syllable Counts (for unique names)"
   ]
  },
  {
   "cell_type": "code",
   "execution_count": 23,
   "metadata": {},
   "outputs": [],
   "source": [
    "#Copy/pasted contents of unique_names (above) and manually assigned syllable counts to new dict (original_names)\n",
    "original_names = {\n",
    "'F': {'Abigail': 3, 'Addison': 3,\n",
    "  'Alexis': 2,  'Alice': 2, 'Alyssa': 3, 'Amanda': 3, 'Amelia': 3, 'Amy': 2, 'Angela': 3, 'Anna': 2,\n",
    "  'Annie': 2, 'Bertha': 2, 'Bessie': 2, 'Clara': 2, 'Edna': 2, 'Ethel': 2, 'Florence': 2, 'Gladys': 2,\n",
    "  'Ida': 2, 'Lillian': 3, 'Minnie': 2, 'Ashley': 2, 'Ava': 2, 'Barbara': 2,  'Betty': 2, 'Brenda': 2,  \n",
    "  'Brittany': 2, 'Carol': 2, 'Carolyn': 3, 'Charlotte': 2,  'Chloe': 2, 'Crystal': 2,  'Cynthia': 3, \n",
    "  'Deborah': 2,  'Debra': 2, 'Donna': 2,  'Doris': 2, 'Dorothy': 3, 'Elizabeth': 4, 'Emily': 3, 'Emma': 2,\n",
    "  'Evelyn': 3, 'Frances': 2, 'Hannah': 2, 'Harper': 2, 'Heather': 2, 'Helen': 2, 'Isabella': 4, \n",
    "  'Jennifer': 3, 'Jessica': 3, 'Joan': 1, 'Joyce': 1, 'Judith': 2, 'Judy': 2, 'Julie': 2, 'Karen': 2,  \n",
    "  'Kathleen': 2, 'Kayla': 2,  'Kelly': 2, 'Kimberly': 3, 'Laura': 2, 'Lauren': 2,  'Linda': 2, 'Lisa': 2,\n",
    "  'Lori': 2, 'Madison': 3, 'Margaret': 2, 'Marie': 2, 'Mary': 2, 'Megan': 2, 'Melissa': 3, 'Mia': 2, \n",
    "  'Michelle': 2, 'Mildred': 2, 'Nancy': 2, 'Nicole': 2, 'Olivia': 4, 'Pamela': 3, 'Patricia': 3, \n",
    "  'Rachel': 2, 'Rebecca': 3, 'Ruth': 1, 'Samantha': 3, 'Sandra': 2, 'Sarah': 2, 'Sharon': 2,'Shirley': 2,\n",
    "  'Sophia': 3, 'Stephanie': 3, 'Susan': 2, 'Tammy': 2, 'Taylor': 2, 'Tracy': 2, 'Virginia': 3},\n",
    "  \n",
    " 'M': {'Aiden': 2, 'Alexander': 4, 'Andrew': 2, 'Anthony': 3, 'Austin': 2, 'Benjamin': 3, 'Brandon': 2, \n",
    "  'Brian': 2,'Charles': 2, 'Christopher': 3, 'Daniel': 2, 'David': 2, 'Donald': 2, 'Edward': 2,\n",
    "  'Elijah': 3, 'Ethan': 2, 'Frank': 1, 'Gary': 2, 'George': 1, 'Harry': 2, 'Henry': 2, 'Jacob': 2, \n",
    "  'James': 1, 'Jason': 2, 'Jayden': 2, 'Jeffrey': 2, 'John': 1, 'Joseph': 2, 'Joshua': 3, 'Justin': 2, \n",
    "  'Larry': 2, 'Liam': 2, 'Logan': 2, 'Mark': 1, 'Mason': 2, 'Matthew': 2, 'Michael': 2, 'Nicholas': 3,  \n",
    "  'Noah': 2, 'Oliver': 3, 'Richard': 2, 'Robert': 2, 'Ronald': 2, 'Scott': 1, 'Steven': 2, 'Thomas': 2, \n",
    "  'Tyler': 2, 'Walter': 2, 'William': 2}}"
   ]
  },
  {
   "cell_type": "markdown",
   "metadata": {},
   "source": [
    "*Note: For names whose syllable counts I wasn't sure about, I assigned a syllable count consistent w/ popular pronunciation (e.g. Barbara(2), Amelia(3), Brittany(2), Deborah(2), Margaret(2))"
   ]
  },
  {
   "cell_type": "markdown",
   "metadata": {},
   "source": [
    "### Assigning Syllable Counts to all_names_decades Dict"
   ]
  },
  {
   "cell_type": "code",
   "execution_count": 24,
   "metadata": {},
   "outputs": [],
   "source": [
    "#Transfers syllable count from original_names dict to corresponding names (w/ empty values) in all_names_decades dict\n",
    "for sex in ['M','F']:\n",
    "    decades = np.arange(1880, 2020, 10)\n",
    "    for decade in decades:\n",
    "        dec = all_names_decades[sex][decade]\n",
    "        for name in dec:\n",
    "            all_names_decades[sex][decade][name] = original_names[sex][name]"
   ]
  },
  {
   "cell_type": "markdown",
   "metadata": {},
   "source": [
    "### Renaming Dict After Syllable Count Assignment"
   ]
  },
  {
   "cell_type": "code",
   "execution_count": 25,
   "metadata": {},
   "outputs": [],
   "source": [
    "decade_syllable_counts = all_names_decades.copy()"
   ]
  },
  {
   "cell_type": "code",
   "execution_count": 26,
   "metadata": {},
   "outputs": [],
   "source": [
    "#Stores avg syllable count for all names appearing in top 10 for a particular year in each decade\n",
    "syllables_avg = {}\n",
    "decades = np.arange(1880,2020,10)\n",
    "for sex in ['F', 'M']:\n",
    "    avgs = {}\n",
    "    for decade in decades:\n",
    "        data = decade_syllable_counts[sex][decade]\n",
    "        avg = np.mean(list(data.values()))\n",
    "        avgs[decade] = avg\n",
    "    syllables_avg[sex] = avgs"
   ]
  },
  {
   "cell_type": "markdown",
   "metadata": {},
   "source": [
    "-------------------------------------------------------------------------------------------------------------------------"
   ]
  },
  {
   "cell_type": "markdown",
   "metadata": {},
   "source": [
    "## (2) Avg. Syllable Counts in Each Decade \n",
    "(based on popular names - i.e. those that appeared in nat'l top 10 in any year during a particular decade)"
   ]
  },
  {
   "cell_type": "markdown",
   "metadata": {},
   "source": [
    "#### Matplotlib Plot:"
   ]
  },
  {
   "cell_type": "code",
   "execution_count": 27,
   "metadata": {},
   "outputs": [],
   "source": [
    "plt.style.use('seaborn')"
   ]
  },
  {
   "cell_type": "code",
   "execution_count": 28,
   "metadata": {},
   "outputs": [
    {
     "data": {
      "image/png": "[encoded data removed]",
      "text/plain": [
       "<matplotlib.figure.Figure at 0x14ce552b048>"
      ]
     },
     "metadata": {},
     "output_type": "display_data"
    }
   ],
   "source": [
    "fig, ax = plt.subplots(2, figsize=(12,8))\n",
    "for i in range(2):\n",
    "    sex = ['M','F']\n",
    "    titles = ['Male','Female']\n",
    "    x = list(syllables_avg[sex[i]].keys())\n",
    "    y = list(syllables_avg[sex[i]].values())\n",
    "    ax[i].plot(x,y)\n",
    "    ax[i].set_ylabel('Syllables')\n",
    "    ax[i].set_title(titles[i])"
   ]
  },
  {
   "cell_type": "markdown",
   "metadata": {},
   "source": [
    "#### Altair Plot Data:\n",
    "*Adjusting dataframe to fit Altair plotting functionality"
   ]
  },
  {
   "cell_type": "code",
   "execution_count": 29,
   "metadata": {},
   "outputs": [],
   "source": [
    "#Creating df w/ avg. decade syllable counts & corresponding year (from syllables_avg, above)\n",
    "xm = list(syllables_avg['M'].keys())\n",
    "ym = list(syllables_avg['M'].values())\n",
    "\n",
    "xf = list(syllables_avg['F'].keys())\n",
    "yf = list(syllables_avg['F'].values())\n",
    "\n",
    "male_syllables = pd.DataFrame({'Year':xm, 'Syllables':ym, 'Sex':np.full(len(xm),'M')})\n",
    "female_syllables = pd.DataFrame({'Year':xf, 'Syllables':yf, 'Sex':np.full(len(xf),'F')})\n",
    "\n",
    "combined_syllables = pd.concat([male_syllables, female_syllables])\n",
    "combined_syllables['Syllables'] = combined_syllables.Syllables.round(2)\n",
    "\n",
    "years = [str(year) for year in combined_syllables['Year']]\n",
    "combined_syllables['Year'] = pd.to_datetime(years)"
   ]
  },
  {
   "cell_type": "code",
   "execution_count": 30,
   "metadata": {},
   "outputs": [],
   "source": [
    "base = alt.Chart(combined_syllables).encode(\n",
    "    x=alt.X('Year:T', axis=alt.Axis(grid=True, format='%Y')),\n",
    "    y=alt.Y('Syllables:Q', scale=alt.Scale(zero=False), axis=alt.Axis(grid=False)),\n",
    "    color=alt.Color(\n",
    "        'Sex', scale=alt.Scale(\n",
    "        domain=['F','M'], \n",
    "        range=['#de9ed6','#1f77b4']))\n",
    "    ).properties(width=600, height=400, title='Average Syllable Count (for popular names)')\n",
    "\n",
    "lines = base.mark_line()\n",
    "points = base.mark_point().encode(tooltip=['Year','Syllables'])\n",
    "\n",
    "chart = lines + points"
   ]
  },
  {
   "cell_type": "markdown",
   "metadata": {},
   "source": [
    "#### Altair Plot:\n",
    "*Interactive: scroll over points to view year & syllable count"
   ]
  },
  {
   "cell_type": "code",
   "execution_count": 31,
   "metadata": {},
   "outputs": [
    {
     "data": {
      "application/vnd.vegalite.v2+json": {
       "$schema": "https://vega.github.io/schema/vega-lite/v2.6.0.json",
       "config": {
        "view": {
         "height": 300,
         "width": 400
        }
       },
       "datasets": {
        "data-e9e196839b38464b98de80b8ce0b90e8": [
         {
          "Sex": "M",
          "Syllables": 1.67,
          "Year": "1880-01-01T00:00:00"
         },
         {
          "Sex": "M",
          "Syllables": 1.67,
          "Year": "1890-01-01T00:00:00"
         },
         {
          "Sex": "M",
          "Syllables": 1.64,
          "Year": "1900-01-01T00:00:00"
         },
         {
          "Sex": "M",
          "Syllables": 1.67,
          "Year": "1910-01-01T00:00:00"
         },
         {
          "Sex": "M",
          "Syllables": 1.64,
          "Year": "1920-01-01T00:00:00"
         },
         {
          "Sex": "M",
          "Syllables": 1.77,
          "Year": "1930-01-01T00:00:00"
         },
         {
          "Sex": "M",
          "Syllables": 1.83,
          "Year": "1940-01-01T00:00:00"
         },
         {
          "Sex": "M",
          "Syllables": 1.75,
          "Year": "1950-01-01T00:00:00"
         },
         {
          "Sex": "M",
          "Syllables": 1.85,
          "Year": "1960-01-01T00:00:00"
         },
         {
          "Sex": "M",
          "Syllables": 1.88,
          "Year": "1970-01-01T00:00:00"
         },
         {
          "Sex": "M",
          "Syllables": 2,
          "Year": "1980-01-01T00:00:00"
         },
         {
          "Sex": "M",
          "Syllables": 2.06,
          "Year": "1990-01-01T00:00:00"
         },
         {
          "Sex": "M",
          "Syllables": 2.38,
          "Year": "2000-01-01T00:00:00"
         },
         {
          "Sex": "M",
          "Syllables": 2.29,
          "Year": "2010-01-01T00:00:00"
         },
         {
          "Sex": "F",
          "Syllables": 2.14,
          "Year": "1880-01-01T00:00:00"
         },
         {
          "Sex": "F",
          "Syllables": 2.12,
          "Year": "1890-01-01T00:00:00"
         },
         {
          "Sex": "F",
          "Syllables": 2.21,
          "Year": "1900-01-01T00:00:00"
         },
         {
          "Sex": "F",
          "Syllables": 2.33,
          "Year": "1910-01-01T00:00:00"
         },
         {
          "Sex": "F",
          "Syllables": 2.29,
          "Year": "1920-01-01T00:00:00"
         },
         {
          "Sex": "F",
          "Syllables": 1.93,
          "Year": "1930-01-01T00:00:00"
         },
         {
          "Sex": "F",
          "Syllables": 2.11,
          "Year": "1940-01-01T00:00:00"
         },
         {
          "Sex": "F",
          "Syllables": 2.18,
          "Year": "1950-01-01T00:00:00"
         },
         {
          "Sex": "F",
          "Syllables": 2.32,
          "Year": "1960-01-01T00:00:00"
         },
         {
          "Sex": "F",
          "Syllables": 2.47,
          "Year": "1970-01-01T00:00:00"
         },
         {
          "Sex": "F",
          "Syllables": 2.5,
          "Year": "1980-01-01T00:00:00"
         },
         {
          "Sex": "F",
          "Syllables": 2.5,
          "Year": "1990-01-01T00:00:00"
         },
         {
          "Sex": "F",
          "Syllables": 2.65,
          "Year": "2000-01-01T00:00:00"
         },
         {
          "Sex": "F",
          "Syllables": 2.81,
          "Year": "2010-01-01T00:00:00"
         }
        ]
       },
       "layer": [
        {
         "data": {
          "name": "data-e9e196839b38464b98de80b8ce0b90e8"
         },
         "encoding": {
          "color": {
           "field": "Sex",
           "scale": {
            "domain": [
             "F",
             "M"
            ],
            "range": [
             "#de9ed6",
             "#1f77b4"
            ]
           },
           "type": "nominal"
          },
          "x": {
           "axis": {
            "format": "%Y",
            "grid": true
           },
           "field": "Year",
           "type": "temporal"
          },
          "y": {
           "axis": {
            "grid": false
           },
           "field": "Syllables",
           "scale": {
            "zero": false
           },
           "type": "quantitative"
          }
         },
         "height": 400,
         "mark": "line",
         "title": "Average Syllable Count (for popular names)",
         "width": 600
        },
        {
         "data": {
          "name": "data-e9e196839b38464b98de80b8ce0b90e8"
         },
         "encoding": {
          "color": {
           "field": "Sex",
           "scale": {
            "domain": [
             "F",
             "M"
            ],
            "range": [
             "#de9ed6",
             "#1f77b4"
            ]
           },
           "type": "nominal"
          },
          "tooltip": [
           {
            "field": "Year",
            "type": "temporal"
           },
           {
            "field": "Syllables",
            "type": "quantitative"
           }
          ],
          "x": {
           "axis": {
            "format": "%Y",
            "grid": true
           },
           "field": "Year",
           "type": "temporal"
          },
          "y": {
           "axis": {
            "grid": false
           },
           "field": "Syllables",
           "scale": {
            "zero": false
           },
           "type": "quantitative"
          }
         },
         "height": 400,
         "mark": "point",
         "title": "Average Syllable Count (for popular names)",
         "width": 600
        }
       ]
      },
      "image/png": "[encoded data removed]",
      "text/plain": [
       "<VegaLite 2 object>\n",
       "\n",
       "If you see this message, it means the renderer has not been properly enabled\n",
       "for the frontend that you are using. For more information, see\n",
       "https://altair-viz.github.io/user_guide/troubleshooting.html\n"
      ]
     },
     "execution_count": 31,
     "metadata": {},
     "output_type": "execute_result"
    }
   ],
   "source": [
    "chart"
   ]
  },
  {
   "cell_type": "markdown",
   "metadata": {},
   "source": [
    "### Findings: \n",
    "(1) General upward trend w/ syllable counts of popular male & female names both increasing by an avg. of about 0.65 from 1880-2017\n",
    "\n",
    "(2) Popular female names maintained an average of about 0.5 more syllables than popular male names\n",
    "\n",
    "(3) Female names experienced a significant drop b/w 1920-30, before continuing upward\n",
    "\n",
    "*The small sample size of popular names might be the cause"
   ]
  },
  {
   "cell_type": "markdown",
   "metadata": {},
   "source": [
    "-------------------------------------------------------------------------------------------------------------------------"
   ]
  },
  {
   "cell_type": "markdown",
   "metadata": {},
   "source": [
    "\n",
    "## Peak Year For Each Name (in each state)"
   ]
  },
  {
   "cell_type": "code",
   "execution_count": 32,
   "metadata": {},
   "outputs": [],
   "source": [
    "#Dictionary storing peak year for each name in trended (for all states)\n",
    "#(split into M & F)\n",
    "#Need to find faster way to process this (took 2 min 10 sec)\n",
    "male_fem = {}\n",
    "for sex in ['M','F']:\n",
    "    names = {}\n",
    "    for name in trended[sex]:\n",
    "        states = {}\n",
    "        copy = all_states.copy()\n",
    "        copy = copy[(copy['Sex'] == sex) & (copy['Name'] == name)]\n",
    "        for state in states_abrev:\n",
    "            df = copy[copy['State'] == state]\n",
    "            peak = df['Normalized_Count'].max()\n",
    "            peak_yr = df['Year'][df['Normalized_Count'] == peak]\n",
    "            states[state] = peak_yr.iloc[0]\n",
    "        names[name] = states\n",
    "    male_fem[sex] = names"
   ]
  },
  {
   "cell_type": "markdown",
   "metadata": {},
   "source": [
    "## Sample Plot: Year of Each State's Peak Popularity for \"Abigail\""
   ]
  },
  {
   "cell_type": "markdown",
   "metadata": {},
   "source": [
    "#### Matplotlib Plot:"
   ]
  },
  {
   "cell_type": "code",
   "execution_count": 33,
   "metadata": {},
   "outputs": [
    {
     "data": {
      "image/png": "[encoded data removed]",
      "text/plain": [
       "<matplotlib.figure.Figure at 0x14ce55d2be0>"
      ]
     },
     "metadata": {},
     "output_type": "display_data"
    }
   ],
   "source": [
    "abigail = male_fem['F']['Abigail']\n",
    "x = abigail.keys()\n",
    "y = abigail.values()\n",
    "\n",
    "fig, ax = plt.subplots(figsize=(18,12))\n",
    "ax.scatter(x,y, color='royalblue', alpha=0.8)\n",
    "ax.set_title('Abigail', fontsize='x-large')\n",
    "\n",
    "#Including every year in y-axis (instead of default: every other year)\n",
    "import matplotlib.ticker as plticker\n",
    "loc = plticker.MultipleLocator(base=1)\n",
    "ax.yaxis.set_major_locator(loc)"
   ]
  },
  {
   "cell_type": "markdown",
   "metadata": {},
   "source": [
    "*Vermont was the leader in this instance"
   ]
  },
  {
   "cell_type": "code",
   "execution_count": 62,
   "metadata": {},
   "outputs": [],
   "source": [
    "points = pd.DataFrame({'State':list(abigail.keys()), 'Peak':list(abigail.values())})\n",
    "dates = [str(year) for year in points.Peak]\n",
    "points['Peak'] = pd.to_datetime(dates)\n",
    "\n",
    "click = alt.selection_multi(encodings=['color'])\n",
    "\n",
    "pts = alt.Chart(points).mark_circle(size=200).encode(\n",
    "    x=alt.X('State:O', title=''),\n",
    "    y=alt.Y('Peak', title='Peak Year', axis=alt.Axis(format='%Y')),\n",
    "    color=alt.condition(click, 'State', alt.value('lightgray'), legend=None),\n",
    "    tooltip=['State']\n",
    ").properties(selection=click, width=800, height=500, title='Year of Each State\\'s Peak Popularity for \"Abigail\"')\n",
    "\n",
    "legend = alt.Chart(points).mark_circle(size=100).encode(\n",
    "    y=alt.Y('State:O', title=''),\n",
    "    color=alt.condition(click, 'State', alt.value('lightgray'), legend=None)\n",
    ").properties(height=500, selection=click)\n",
    "\n",
    "chart = pts | legend"
   ]
  },
  {
   "cell_type": "markdown",
   "metadata": {},
   "source": [
    "#### Altair Plot:\n",
    "*Interactive: click on circle (chart or legend) to highlight selected state (can select multiple states by holding 'shift' key and clicking mouse)"
   ]
  },
  {
   "cell_type": "code",
   "execution_count": 63,
   "metadata": {},
   "outputs": [
    {
     "data": {
      "application/vnd.vegalite.v2+json": {
       "$schema": "https://vega.github.io/schema/vega-lite/v2.6.0.json",
       "config": {
        "view": {
         "height": 300,
         "width": 400
        }
       },
       "datasets": {
        "data-6c8a42bdca4e6a1b7fc7f63952e3d657": [
         {
          "Peak": "2001-01-01T00:00:00",
          "State": "AK"
         },
         {
          "Peak": "2005-01-01T00:00:00",
          "State": "AL"
         },
         {
          "Peak": "2006-01-01T00:00:00",
          "State": "AR"
         },
         {
          "Peak": "2003-01-01T00:00:00",
          "State": "AZ"
         },
         {
          "Peak": "2015-01-01T00:00:00",
          "State": "CA"
         },
         {
          "Peak": "2002-01-01T00:00:00",
          "State": "CO"
         },
         {
          "Peak": "2001-01-01T00:00:00",
          "State": "CT"
         },
         {
          "Peak": "2003-01-01T00:00:00",
          "State": "DC"
         },
         {
          "Peak": "2003-01-01T00:00:00",
          "State": "DE"
         },
         {
          "Peak": "2006-01-01T00:00:00",
          "State": "FL"
         },
         {
          "Peak": "2003-01-01T00:00:00",
          "State": "GA"
         },
         {
          "Peak": "2008-01-01T00:00:00",
          "State": "HI"
         },
         {
          "Peak": "2002-01-01T00:00:00",
          "State": "IA"
         },
         {
          "Peak": "2004-01-01T00:00:00",
          "State": "ID"
         },
         {
          "Peak": "2003-01-01T00:00:00",
          "State": "IL"
         },
         {
          "Peak": "2004-01-01T00:00:00",
          "State": "IN"
         },
         {
          "Peak": "2002-01-01T00:00:00",
          "State": "KS"
         },
         {
          "Peak": "2005-01-01T00:00:00",
          "State": "KY"
         },
         {
          "Peak": "2006-01-01T00:00:00",
          "State": "LA"
         },
         {
          "Peak": "2001-01-01T00:00:00",
          "State": "MA"
         },
         {
          "Peak": "2005-01-01T00:00:00",
          "State": "MD"
         },
         {
          "Peak": "2001-01-01T00:00:00",
          "State": "ME"
         },
         {
          "Peak": "2003-01-01T00:00:00",
          "State": "MI"
         },
         {
          "Peak": "2001-01-01T00:00:00",
          "State": "MN"
         },
         {
          "Peak": "2001-01-01T00:00:00",
          "State": "MO"
         },
         {
          "Peak": "2004-01-01T00:00:00",
          "State": "MS"
         },
         {
          "Peak": "2006-01-01T00:00:00",
          "State": "MT"
         },
         {
          "Peak": "2003-01-01T00:00:00",
          "State": "NC"
         },
         {
          "Peak": "2003-01-01T00:00:00",
          "State": "ND"
         },
         {
          "Peak": "2001-01-01T00:00:00",
          "State": "NE"
         },
         {
          "Peak": "2004-01-01T00:00:00",
          "State": "NH"
         },
         {
          "Peak": "2007-01-01T00:00:00",
          "State": "NJ"
         },
         {
          "Peak": "2007-01-01T00:00:00",
          "State": "NM"
         },
         {
          "Peak": "2008-01-01T00:00:00",
          "State": "NV"
         },
         {
          "Peak": "2007-01-01T00:00:00",
          "State": "NY"
         },
         {
          "Peak": "2003-01-01T00:00:00",
          "State": "OH"
         },
         {
          "Peak": "2003-01-01T00:00:00",
          "State": "OK"
         },
         {
          "Peak": "2006-01-01T00:00:00",
          "State": "OR"
         },
         {
          "Peak": "2001-01-01T00:00:00",
          "State": "PA"
         },
         {
          "Peak": "2005-01-01T00:00:00",
          "State": "RI"
         },
         {
          "Peak": "2005-01-01T00:00:00",
          "State": "SC"
         },
         {
          "Peak": "2002-01-01T00:00:00",
          "State": "SD"
         },
         {
          "Peak": "2006-01-01T00:00:00",
          "State": "TN"
         },
         {
          "Peak": "2008-01-01T00:00:00",
          "State": "TX"
         },
         {
          "Peak": "2002-01-01T00:00:00",
          "State": "UT"
         },
         {
          "Peak": "2006-01-01T00:00:00",
          "State": "VA"
         },
         {
          "Peak": "2000-01-01T00:00:00",
          "State": "VT"
         },
         {
          "Peak": "2008-01-01T00:00:00",
          "State": "WA"
         },
         {
          "Peak": "2002-01-01T00:00:00",
          "State": "WI"
         },
         {
          "Peak": "2002-01-01T00:00:00",
          "State": "WV"
         },
         {
          "Peak": "2007-01-01T00:00:00",
          "State": "WY"
         }
        ]
       },
       "hconcat": [
        {
         "data": {
          "name": "data-6c8a42bdca4e6a1b7fc7f63952e3d657"
         },
         "encoding": {
          "color": {
           "condition": {
            "field": "State",
            "legend": null,
            "selection": "selector005",
            "type": "nominal"
           },
           "value": "lightgray"
          },
          "tooltip": [
           {
            "field": "State",
            "type": "nominal"
           }
          ],
          "x": {
           "field": "State",
           "title": "",
           "type": "ordinal"
          },
          "y": {
           "axis": {
            "format": "%Y"
           },
           "field": "Peak",
           "title": "Peak Year",
           "type": "temporal"
          }
         },
         "height": 500,
         "mark": {
          "size": 200,
          "type": "circle"
         },
         "selection": {
          "selector005": {
           "empty": "all",
           "encodings": [
            "color"
           ],
           "on": "click",
           "resolve": "global",
           "toggle": "event.shiftKey",
           "type": "multi"
          }
         },
         "title": "Year of Each State's Peak Popularity for \"Abigail\"",
         "width": 800
        },
        {
         "data": {
          "name": "data-6c8a42bdca4e6a1b7fc7f63952e3d657"
         },
         "encoding": {
          "color": {
           "condition": {
            "field": "State",
            "legend": null,
            "selection": "selector005",
            "type": "nominal"
           },
           "value": "lightgray"
          },
          "y": {
           "field": "State",
           "title": "",
           "type": "ordinal"
          }
         },
         "height": 500,
         "mark": {
          "size": 100,
          "type": "circle"
         },
         "selection": {
          "selector005": {
           "empty": "all",
           "encodings": [
            "color"
           ],
           "on": "click",
           "resolve": "global",
           "toggle": "event.shiftKey",
           "type": "multi"
          }
         }
        }
       ]
      },
      "image/png": "[encoded data removed]",
      "text/plain": [
       "<VegaLite 2 object>\n",
       "\n",
       "If you see this message, it means the renderer has not been properly enabled\n",
       "for the frontend that you are using. For more information, see\n",
       "https://altair-viz.github.io/user_guide/troubleshooting.html\n"
      ]
     },
     "execution_count": 63,
     "metadata": {},
     "output_type": "execute_result"
    }
   ],
   "source": [
    "chart"
   ]
  },
  {
   "cell_type": "markdown",
   "metadata": {},
   "source": [
    "-------------------------------------------------------------------------------------------------------------------------"
   ]
  },
  {
   "cell_type": "markdown",
   "metadata": {},
   "source": [
    "## (3) Trendsetting Metric #1: Total Number of Earliest Peak Name Popularity Counts\n",
    "*Number of times a particular state had the earliest peak popularity compared to other states for a particular name"
   ]
  },
  {
   "cell_type": "code",
   "execution_count": 36,
   "metadata": {},
   "outputs": [],
   "source": [
    "#Dictionary split into M & F\n",
    "state_counts = {}\n",
    "for sex in ['M','F']:\n",
    "    count = {}\n",
    "    for name in male_fem[sex]:\n",
    "        data = male_fem[sex][name]\n",
    "        values = list(data.items())\n",
    "        peaks = list(data.values())\n",
    "        first_peak = min(peaks)\n",
    "        \n",
    "        #Identifying trend-setting states whose peaks were within 10 years of median peak\n",
    "        median = np.median(peaks)\n",
    "        for peak in peaks:\n",
    "            if median - first_peak <= 10:\n",
    "                trend_setters = [x[0] for x in values if x[1] == first_peak]\n",
    "                break\n",
    "        #Removing outliers from peaks list & identifying next earliest non-outlier peak\n",
    "            else:\n",
    "                peaks = list(filter(lambda x: x!= first_peak, peaks))\n",
    "                first_peak = min(peaks)\n",
    "                continue\n",
    "        #Populating counts dict w/ counts for states that have earliest peak appearance\n",
    "        for state in trend_setters:\n",
    "            if state in count:\n",
    "                count[state] += 1\n",
    "            else:\n",
    "                count[state] = 1\n",
    "        #Storing value of 0 for states w/ no earliest peak appearances\n",
    "        states = [x[0] for x in values]\n",
    "        for state in states:\n",
    "            if state not in count:\n",
    "                count[state] = 0\n",
    "    state_counts[sex] = count"
   ]
  },
  {
   "cell_type": "code",
   "execution_count": 37,
   "metadata": {},
   "outputs": [],
   "source": [
    "#Combining counts from M & F sub-dictionaries into combined counts dictionary\n",
    "male = state_counts['M']\n",
    "female = state_counts['F']\n",
    "state_counts['Combined'] = {x: male.get(x, 0) + female.get(x, 0) for x in set(male) & set(female)}"
   ]
  },
  {
   "cell_type": "markdown",
   "metadata": {},
   "source": [
    "#### Matplotlib Plot:"
   ]
  },
  {
   "cell_type": "code",
   "execution_count": 38,
   "metadata": {},
   "outputs": [
    {
     "data": {
      "image/png": "[encoded data removed]",
      "text/plain": [
       "<matplotlib.figure.Figure at 0x14c8002f5c0>"
      ]
     },
     "metadata": {},
     "output_type": "display_data"
    }
   ],
   "source": [
    "import collections    #for ordering dict items by key\n",
    "\n",
    "fig,ax = plt.subplots(3, figsize=(18,18))\n",
    "for i in range(3):\n",
    "    key = ['M', 'F', 'Combined']\n",
    "    colors = ['Navy','Purple','Teal']\n",
    "    title = ['Boys', 'Girls', 'Combined']\n",
    "    \n",
    "    data = state_counts[key[i]]\n",
    "    data = collections.OrderedDict(sorted(data.items()))\n",
    "    x = [x[0] for x in data.items()]\n",
    "    y = [x[1] for x in data.items()]\n",
    "    \n",
    "    ax[i].bar(x,y,color=colors[i])\n",
    "    ax[i].set_title(title[i])\n",
    "    ax[i].set_yticks(np.arange(0, max(y)+2, 1))"
   ]
  },
  {
   "cell_type": "code",
   "execution_count": 39,
   "metadata": {},
   "outputs": [],
   "source": [
    "df = pd.DataFrame({'Male':state_counts['M'], 'Female':state_counts['F'], 'Combined':state_counts['Combined']})\n",
    "df.reset_index(inplace=True)"
   ]
  },
  {
   "cell_type": "markdown",
   "metadata": {},
   "source": [
    "#### Manipulating Data For Altair Plot"
   ]
  },
  {
   "cell_type": "code",
   "execution_count": 40,
   "metadata": {},
   "outputs": [],
   "source": [
    "counts = pd.DataFrame({'Male':state_counts['M'], 'Female':state_counts['F'], 'Combined':state_counts['Combined']})\n",
    "counts.reset_index(inplace=True)\n",
    "counts.rename({'index':'State'}, axis=1, inplace=True)"
   ]
  },
  {
   "cell_type": "code",
   "execution_count": 41,
   "metadata": {},
   "outputs": [],
   "source": [
    "male_state_counts = counts.loc[:,['State','Male']]\n",
    "female_state_counts = counts.loc[:,['State','Female']]"
   ]
  },
  {
   "cell_type": "code",
   "execution_count": 42,
   "metadata": {},
   "outputs": [],
   "source": [
    "#Creating 'Count' series containing 51 'male' & 51 'female' labels (to add to df below)\n",
    "male_state_counts = counts.loc[:,['State','Male']]\n",
    "female_state_counts = counts.loc[:,['State','Female']]\n",
    "\n",
    "male_state_counts['Sex'] = np.full(51, 'Male')\n",
    "male_state_counts.rename({'Male':'Count'}, axis=1, inplace=True)\n",
    "female_state_counts['Sex'] = np.full(51, 'Female')\n",
    "female_state_counts.rename({'Female':'Count'}, axis=1, inplace=True)\n",
    "\n",
    "both_counts = pd.concat([male_state_counts, female_state_counts], sort=True).reset_index(drop=True)"
   ]
  },
  {
   "cell_type": "code",
   "execution_count": 43,
   "metadata": {},
   "outputs": [],
   "source": [
    "#Creating 'combined_counts_repeat' series (containing combined male+female counts, repeated) to assign to new 'Total' column below\n",
    "combined_counts = both_counts.groupby('State').Count.sum()\n",
    "combined_counts_repeat = pd.concat([combined_counts, combined_counts])"
   ]
  },
  {
   "cell_type": "code",
   "execution_count": 44,
   "metadata": {},
   "outputs": [],
   "source": [
    "both_counts['Total'] = list(combined_counts_repeat)"
   ]
  },
  {
   "cell_type": "code",
   "execution_count": 45,
   "metadata": {},
   "outputs": [],
   "source": [
    "chart = alt.Chart(both_counts).mark_bar().encode(\n",
    "    x='State',\n",
    "    y='Total',\n",
    "    color=(alt.condition(        \n",
    "        alt.datum.Total > 11,\n",
    "        alt.value('orange'),\n",
    "        alt.value('steelblue'))),\n",
    "    tooltip=['State','Total']\n",
    "    ).properties(width=800, height=481, title='Total Earliest Peak Counts')"
   ]
  },
  {
   "cell_type": "markdown",
   "metadata": {},
   "source": [
    "#### Altair Plot:\n",
    "*Interactive: Scroll over bar to view state name & total count (orange bars are the leading trendsetters)"
   ]
  },
  {
   "cell_type": "code",
   "execution_count": 46,
   "metadata": {},
   "outputs": [
    {
     "data": {
      "application/vnd.vegalite.v2+json": {
       "$schema": "https://vega.github.io/schema/vega-lite/v2.6.0.json",
       "config": {
        "view": {
         "height": 300,
         "width": 400
        }
       },
       "data": {
        "name": "data-8f9d9cc974451dda8972fa811919b991"
       },
       "datasets": {
        "data-8f9d9cc974451dda8972fa811919b991": [
         {
          "Count": 2,
          "Sex": "Male",
          "State": "AK",
          "Total": 4
         },
         {
          "Count": 2,
          "Sex": "Male",
          "State": "AL",
          "Total": 5
         },
         {
          "Count": 1,
          "Sex": "Male",
          "State": "AR",
          "Total": 1
         },
         {
          "Count": 0,
          "Sex": "Male",
          "State": "AZ",
          "Total": 4
         },
         {
          "Count": 2,
          "Sex": "Male",
          "State": "CA",
          "Total": 6
         },
         {
          "Count": 4,
          "Sex": "Male",
          "State": "CO",
          "Total": 6
         },
         {
          "Count": 2,
          "Sex": "Male",
          "State": "CT",
          "Total": 5
         },
         {
          "Count": 3,
          "Sex": "Male",
          "State": "DC",
          "Total": 11
         },
         {
          "Count": 4,
          "Sex": "Male",
          "State": "DE",
          "Total": 6
         },
         {
          "Count": 0,
          "Sex": "Male",
          "State": "FL",
          "Total": 1
         },
         {
          "Count": 1,
          "Sex": "Male",
          "State": "GA",
          "Total": 1
         },
         {
          "Count": 4,
          "Sex": "Male",
          "State": "HI",
          "Total": 9
         },
         {
          "Count": 5,
          "Sex": "Male",
          "State": "IA",
          "Total": 9
         },
         {
          "Count": 3,
          "Sex": "Male",
          "State": "ID",
          "Total": 10
         },
         {
          "Count": 3,
          "Sex": "Male",
          "State": "IL",
          "Total": 4
         },
         {
          "Count": 3,
          "Sex": "Male",
          "State": "IN",
          "Total": 7
         },
         {
          "Count": 4,
          "Sex": "Male",
          "State": "KS",
          "Total": 8
         },
         {
          "Count": 3,
          "Sex": "Male",
          "State": "KY",
          "Total": 4
         },
         {
          "Count": 1,
          "Sex": "Male",
          "State": "LA",
          "Total": 5
         },
         {
          "Count": 4,
          "Sex": "Male",
          "State": "MA",
          "Total": 8
         },
         {
          "Count": 2,
          "Sex": "Male",
          "State": "MD",
          "Total": 3
         },
         {
          "Count": 7,
          "Sex": "Male",
          "State": "ME",
          "Total": 14
         },
         {
          "Count": 4,
          "Sex": "Male",
          "State": "MI",
          "Total": 9
         },
         {
          "Count": 5,
          "Sex": "Male",
          "State": "MN",
          "Total": 8
         },
         {
          "Count": 2,
          "Sex": "Male",
          "State": "MO",
          "Total": 4
         },
         {
          "Count": 2,
          "Sex": "Male",
          "State": "MS",
          "Total": 4
         },
         {
          "Count": 4,
          "Sex": "Male",
          "State": "MT",
          "Total": 6
         },
         {
          "Count": 6,
          "Sex": "Male",
          "State": "NC",
          "Total": 10
         },
         {
          "Count": 9,
          "Sex": "Male",
          "State": "ND",
          "Total": 17
         },
         {
          "Count": 4,
          "Sex": "Male",
          "State": "NE",
          "Total": 14
         },
         {
          "Count": 2,
          "Sex": "Male",
          "State": "NH",
          "Total": 7
         },
         {
          "Count": 1,
          "Sex": "Male",
          "State": "NJ",
          "Total": 4
         },
         {
          "Count": 0,
          "Sex": "Male",
          "State": "NM",
          "Total": 0
         },
         {
          "Count": 1,
          "Sex": "Male",
          "State": "NV",
          "Total": 2
         },
         {
          "Count": 1,
          "Sex": "Male",
          "State": "NY",
          "Total": 4
         },
         {
          "Count": 3,
          "Sex": "Male",
          "State": "OH",
          "Total": 7
         },
         {
          "Count": 2,
          "Sex": "Male",
          "State": "OK",
          "Total": 5
         },
         {
          "Count": 4,
          "Sex": "Male",
          "State": "OR",
          "Total": 6
         },
         {
          "Count": 4,
          "Sex": "Male",
          "State": "PA",
          "Total": 7
         },
         {
          "Count": 3,
          "Sex": "Male",
          "State": "RI",
          "Total": 9
         },
         {
          "Count": 0,
          "Sex": "Male",
          "State": "SC",
          "Total": 2
         },
         {
          "Count": 3,
          "Sex": "Male",
          "State": "SD",
          "Total": 6
         },
         {
          "Count": 1,
          "Sex": "Male",
          "State": "TN",
          "Total": 4
         },
         {
          "Count": 1,
          "Sex": "Male",
          "State": "TX",
          "Total": 4
         },
         {
          "Count": 5,
          "Sex": "Male",
          "State": "UT",
          "Total": 13
         },
         {
          "Count": 2,
          "Sex": "Male",
          "State": "VA",
          "Total": 5
         },
         {
          "Count": 4,
          "Sex": "Male",
          "State": "VT",
          "Total": 15
         },
         {
          "Count": 2,
          "Sex": "Male",
          "State": "WA",
          "Total": 8
         },
         {
          "Count": 4,
          "Sex": "Male",
          "State": "WI",
          "Total": 4
         },
         {
          "Count": 3,
          "Sex": "Male",
          "State": "WV",
          "Total": 6
         },
         {
          "Count": 5,
          "Sex": "Male",
          "State": "WY",
          "Total": 12
         },
         {
          "Count": 2,
          "Sex": "Female",
          "State": "AK",
          "Total": 4
         },
         {
          "Count": 3,
          "Sex": "Female",
          "State": "AL",
          "Total": 5
         },
         {
          "Count": 0,
          "Sex": "Female",
          "State": "AR",
          "Total": 1
         },
         {
          "Count": 4,
          "Sex": "Female",
          "State": "AZ",
          "Total": 4
         },
         {
          "Count": 4,
          "Sex": "Female",
          "State": "CA",
          "Total": 6
         },
         {
          "Count": 2,
          "Sex": "Female",
          "State": "CO",
          "Total": 6
         },
         {
          "Count": 3,
          "Sex": "Female",
          "State": "CT",
          "Total": 5
         },
         {
          "Count": 8,
          "Sex": "Female",
          "State": "DC",
          "Total": 11
         },
         {
          "Count": 2,
          "Sex": "Female",
          "State": "DE",
          "Total": 6
         },
         {
          "Count": 1,
          "Sex": "Female",
          "State": "FL",
          "Total": 1
         },
         {
          "Count": 0,
          "Sex": "Female",
          "State": "GA",
          "Total": 1
         },
         {
          "Count": 5,
          "Sex": "Female",
          "State": "HI",
          "Total": 9
         },
         {
          "Count": 4,
          "Sex": "Female",
          "State": "IA",
          "Total": 9
         },
         {
          "Count": 7,
          "Sex": "Female",
          "State": "ID",
          "Total": 10
         },
         {
          "Count": 1,
          "Sex": "Female",
          "State": "IL",
          "Total": 4
         },
         {
          "Count": 4,
          "Sex": "Female",
          "State": "IN",
          "Total": 7
         },
         {
          "Count": 4,
          "Sex": "Female",
          "State": "KS",
          "Total": 8
         },
         {
          "Count": 1,
          "Sex": "Female",
          "State": "KY",
          "Total": 4
         },
         {
          "Count": 4,
          "Sex": "Female",
          "State": "LA",
          "Total": 5
         },
         {
          "Count": 4,
          "Sex": "Female",
          "State": "MA",
          "Total": 8
         },
         {
          "Count": 1,
          "Sex": "Female",
          "State": "MD",
          "Total": 3
         },
         {
          "Count": 7,
          "Sex": "Female",
          "State": "ME",
          "Total": 14
         },
         {
          "Count": 5,
          "Sex": "Female",
          "State": "MI",
          "Total": 9
         },
         {
          "Count": 3,
          "Sex": "Female",
          "State": "MN",
          "Total": 8
         },
         {
          "Count": 2,
          "Sex": "Female",
          "State": "MO",
          "Total": 4
         },
         {
          "Count": 2,
          "Sex": "Female",
          "State": "MS",
          "Total": 4
         },
         {
          "Count": 2,
          "Sex": "Female",
          "State": "MT",
          "Total": 6
         },
         {
          "Count": 4,
          "Sex": "Female",
          "State": "NC",
          "Total": 10
         },
         {
          "Count": 8,
          "Sex": "Female",
          "State": "ND",
          "Total": 17
         },
         {
          "Count": 10,
          "Sex": "Female",
          "State": "NE",
          "Total": 14
         },
         {
          "Count": 5,
          "Sex": "Female",
          "State": "NH",
          "Total": 7
         },
         {
          "Count": 3,
          "Sex": "Female",
          "State": "NJ",
          "Total": 4
         },
         {
          "Count": 0,
          "Sex": "Female",
          "State": "NM",
          "Total": 0
         },
         {
          "Count": 1,
          "Sex": "Female",
          "State": "NV",
          "Total": 2
         },
         {
          "Count": 3,
          "Sex": "Female",
          "State": "NY",
          "Total": 4
         },
         {
          "Count": 4,
          "Sex": "Female",
          "State": "OH",
          "Total": 7
         },
         {
          "Count": 3,
          "Sex": "Female",
          "State": "OK",
          "Total": 5
         },
         {
          "Count": 2,
          "Sex": "Female",
          "State": "OR",
          "Total": 6
         },
         {
          "Count": 3,
          "Sex": "Female",
          "State": "PA",
          "Total": 7
         },
         {
          "Count": 6,
          "Sex": "Female",
          "State": "RI",
          "Total": 9
         },
         {
          "Count": 2,
          "Sex": "Female",
          "State": "SC",
          "Total": 2
         },
         {
          "Count": 3,
          "Sex": "Female",
          "State": "SD",
          "Total": 6
         },
         {
          "Count": 3,
          "Sex": "Female",
          "State": "TN",
          "Total": 4
         },
         {
          "Count": 3,
          "Sex": "Female",
          "State": "TX",
          "Total": 4
         },
         {
          "Count": 8,
          "Sex": "Female",
          "State": "UT",
          "Total": 13
         },
         {
          "Count": 3,
          "Sex": "Female",
          "State": "VA",
          "Total": 5
         },
         {
          "Count": 11,
          "Sex": "Female",
          "State": "VT",
          "Total": 15
         },
         {
          "Count": 6,
          "Sex": "Female",
          "State": "WA",
          "Total": 8
         },
         {
          "Count": 0,
          "Sex": "Female",
          "State": "WI",
          "Total": 4
         },
         {
          "Count": 3,
          "Sex": "Female",
          "State": "WV",
          "Total": 6
         },
         {
          "Count": 7,
          "Sex": "Female",
          "State": "WY",
          "Total": 12
         }
        ]
       },
       "encoding": {
        "color": {
         "condition": {
          "test": "(datum.Total > 11)",
          "value": "orange"
         },
         "value": "steelblue"
        },
        "tooltip": [
         {
          "field": "State",
          "type": "nominal"
         },
         {
          "field": "Total",
          "type": "quantitative"
         }
        ],
        "x": {
         "field": "State",
         "type": "nominal"
        },
        "y": {
         "field": "Total",
         "type": "quantitative"
        }
       },
       "height": 481,
       "mark": "bar",
       "title": "Total Earliest Peak Counts",
       "width": 800
      },
      "image/png": "[encoded data removed]",
      "text/plain": [
       "<VegaLite 2 object>\n",
       "\n",
       "If you see this message, it means the renderer has not been properly enabled\n",
       "for the frontend that you are using. For more information, see\n",
       "https://altair-viz.github.io/user_guide/troubleshooting.html\n"
      ]
     },
     "execution_count": 46,
     "metadata": {},
     "output_type": "execute_result"
    }
   ],
   "source": [
    "chart"
   ]
  },
  {
   "cell_type": "markdown",
   "metadata": {},
   "source": [
    "#### (Same Chart as Above, Split Into Male & Female)\n",
    "*Scroll over bar to view state name & count for particular sex "
   ]
  },
  {
   "cell_type": "code",
   "execution_count": 47,
   "metadata": {},
   "outputs": [],
   "source": [
    "#Totals split into male & female counts\n",
    "chart = alt.Chart(both_counts).mark_bar(opacity=0.9).encode(\n",
    "    x='State',\n",
    "    y=alt.Y('Count', title='Total Count'),\n",
    "    tooltip=['State','Count','Total'],\n",
    "    color=alt.Color('Sex', \n",
    "                    scale = alt.Scale(domain=['Female','Male'],\n",
    "                  range=['#e377c2','#386cb0']))\n",
    "    ).properties(height=481, width=900, title='Male + Female Earliest Peak Counts')"
   ]
  },
  {
   "cell_type": "code",
   "execution_count": 48,
   "metadata": {},
   "outputs": [
    {
     "data": {
      "application/vnd.vegalite.v2+json": {
       "$schema": "https://vega.github.io/schema/vega-lite/v2.6.0.json",
       "config": {
        "view": {
         "height": 300,
         "width": 400
        }
       },
       "data": {
        "name": "data-8f9d9cc974451dda8972fa811919b991"
       },
       "datasets": {
        "data-8f9d9cc974451dda8972fa811919b991": [
         {
          "Count": 2,
          "Sex": "Male",
          "State": "AK",
          "Total": 4
         },
         {
          "Count": 2,
          "Sex": "Male",
          "State": "AL",
          "Total": 5
         },
         {
          "Count": 1,
          "Sex": "Male",
          "State": "AR",
          "Total": 1
         },
         {
          "Count": 0,
          "Sex": "Male",
          "State": "AZ",
          "Total": 4
         },
         {
          "Count": 2,
          "Sex": "Male",
          "State": "CA",
          "Total": 6
         },
         {
          "Count": 4,
          "Sex": "Male",
          "State": "CO",
          "Total": 6
         },
         {
          "Count": 2,
          "Sex": "Male",
          "State": "CT",
          "Total": 5
         },
         {
          "Count": 3,
          "Sex": "Male",
          "State": "DC",
          "Total": 11
         },
         {
          "Count": 4,
          "Sex": "Male",
          "State": "DE",
          "Total": 6
         },
         {
          "Count": 0,
          "Sex": "Male",
          "State": "FL",
          "Total": 1
         },
         {
          "Count": 1,
          "Sex": "Male",
          "State": "GA",
          "Total": 1
         },
         {
          "Count": 4,
          "Sex": "Male",
          "State": "HI",
          "Total": 9
         },
         {
          "Count": 5,
          "Sex": "Male",
          "State": "IA",
          "Total": 9
         },
         {
          "Count": 3,
          "Sex": "Male",
          "State": "ID",
          "Total": 10
         },
         {
          "Count": 3,
          "Sex": "Male",
          "State": "IL",
          "Total": 4
         },
         {
          "Count": 3,
          "Sex": "Male",
          "State": "IN",
          "Total": 7
         },
         {
          "Count": 4,
          "Sex": "Male",
          "State": "KS",
          "Total": 8
         },
         {
          "Count": 3,
          "Sex": "Male",
          "State": "KY",
          "Total": 4
         },
         {
          "Count": 1,
          "Sex": "Male",
          "State": "LA",
          "Total": 5
         },
         {
          "Count": 4,
          "Sex": "Male",
          "State": "MA",
          "Total": 8
         },
         {
          "Count": 2,
          "Sex": "Male",
          "State": "MD",
          "Total": 3
         },
         {
          "Count": 7,
          "Sex": "Male",
          "State": "ME",
          "Total": 14
         },
         {
          "Count": 4,
          "Sex": "Male",
          "State": "MI",
          "Total": 9
         },
         {
          "Count": 5,
          "Sex": "Male",
          "State": "MN",
          "Total": 8
         },
         {
          "Count": 2,
          "Sex": "Male",
          "State": "MO",
          "Total": 4
         },
         {
          "Count": 2,
          "Sex": "Male",
          "State": "MS",
          "Total": 4
         },
         {
          "Count": 4,
          "Sex": "Male",
          "State": "MT",
          "Total": 6
         },
         {
          "Count": 6,
          "Sex": "Male",
          "State": "NC",
          "Total": 10
         },
         {
          "Count": 9,
          "Sex": "Male",
          "State": "ND",
          "Total": 17
         },
         {
          "Count": 4,
          "Sex": "Male",
          "State": "NE",
          "Total": 14
         },
         {
          "Count": 2,
          "Sex": "Male",
          "State": "NH",
          "Total": 7
         },
         {
          "Count": 1,
          "Sex": "Male",
          "State": "NJ",
          "Total": 4
         },
         {
          "Count": 0,
          "Sex": "Male",
          "State": "NM",
          "Total": 0
         },
         {
          "Count": 1,
          "Sex": "Male",
          "State": "NV",
          "Total": 2
         },
         {
          "Count": 1,
          "Sex": "Male",
          "State": "NY",
          "Total": 4
         },
         {
          "Count": 3,
          "Sex": "Male",
          "State": "OH",
          "Total": 7
         },
         {
          "Count": 2,
          "Sex": "Male",
          "State": "OK",
          "Total": 5
         },
         {
          "Count": 4,
          "Sex": "Male",
          "State": "OR",
          "Total": 6
         },
         {
          "Count": 4,
          "Sex": "Male",
          "State": "PA",
          "Total": 7
         },
         {
          "Count": 3,
          "Sex": "Male",
          "State": "RI",
          "Total": 9
         },
         {
          "Count": 0,
          "Sex": "Male",
          "State": "SC",
          "Total": 2
         },
         {
          "Count": 3,
          "Sex": "Male",
          "State": "SD",
          "Total": 6
         },
         {
          "Count": 1,
          "Sex": "Male",
          "State": "TN",
          "Total": 4
         },
         {
          "Count": 1,
          "Sex": "Male",
          "State": "TX",
          "Total": 4
         },
         {
          "Count": 5,
          "Sex": "Male",
          "State": "UT",
          "Total": 13
         },
         {
          "Count": 2,
          "Sex": "Male",
          "State": "VA",
          "Total": 5
         },
         {
          "Count": 4,
          "Sex": "Male",
          "State": "VT",
          "Total": 15
         },
         {
          "Count": 2,
          "Sex": "Male",
          "State": "WA",
          "Total": 8
         },
         {
          "Count": 4,
          "Sex": "Male",
          "State": "WI",
          "Total": 4
         },
         {
          "Count": 3,
          "Sex": "Male",
          "State": "WV",
          "Total": 6
         },
         {
          "Count": 5,
          "Sex": "Male",
          "State": "WY",
          "Total": 12
         },
         {
          "Count": 2,
          "Sex": "Female",
          "State": "AK",
          "Total": 4
         },
         {
          "Count": 3,
          "Sex": "Female",
          "State": "AL",
          "Total": 5
         },
         {
          "Count": 0,
          "Sex": "Female",
          "State": "AR",
          "Total": 1
         },
         {
          "Count": 4,
          "Sex": "Female",
          "State": "AZ",
          "Total": 4
         },
         {
          "Count": 4,
          "Sex": "Female",
          "State": "CA",
          "Total": 6
         },
         {
          "Count": 2,
          "Sex": "Female",
          "State": "CO",
          "Total": 6
         },
         {
          "Count": 3,
          "Sex": "Female",
          "State": "CT",
          "Total": 5
         },
         {
          "Count": 8,
          "Sex": "Female",
          "State": "DC",
          "Total": 11
         },
         {
          "Count": 2,
          "Sex": "Female",
          "State": "DE",
          "Total": 6
         },
         {
          "Count": 1,
          "Sex": "Female",
          "State": "FL",
          "Total": 1
         },
         {
          "Count": 0,
          "Sex": "Female",
          "State": "GA",
          "Total": 1
         },
         {
          "Count": 5,
          "Sex": "Female",
          "State": "HI",
          "Total": 9
         },
         {
          "Count": 4,
          "Sex": "Female",
          "State": "IA",
          "Total": 9
         },
         {
          "Count": 7,
          "Sex": "Female",
          "State": "ID",
          "Total": 10
         },
         {
          "Count": 1,
          "Sex": "Female",
          "State": "IL",
          "Total": 4
         },
         {
          "Count": 4,
          "Sex": "Female",
          "State": "IN",
          "Total": 7
         },
         {
          "Count": 4,
          "Sex": "Female",
          "State": "KS",
          "Total": 8
         },
         {
          "Count": 1,
          "Sex": "Female",
          "State": "KY",
          "Total": 4
         },
         {
          "Count": 4,
          "Sex": "Female",
          "State": "LA",
          "Total": 5
         },
         {
          "Count": 4,
          "Sex": "Female",
          "State": "MA",
          "Total": 8
         },
         {
          "Count": 1,
          "Sex": "Female",
          "State": "MD",
          "Total": 3
         },
         {
          "Count": 7,
          "Sex": "Female",
          "State": "ME",
          "Total": 14
         },
         {
          "Count": 5,
          "Sex": "Female",
          "State": "MI",
          "Total": 9
         },
         {
          "Count": 3,
          "Sex": "Female",
          "State": "MN",
          "Total": 8
         },
         {
          "Count": 2,
          "Sex": "Female",
          "State": "MO",
          "Total": 4
         },
         {
          "Count": 2,
          "Sex": "Female",
          "State": "MS",
          "Total": 4
         },
         {
          "Count": 2,
          "Sex": "Female",
          "State": "MT",
          "Total": 6
         },
         {
          "Count": 4,
          "Sex": "Female",
          "State": "NC",
          "Total": 10
         },
         {
          "Count": 8,
          "Sex": "Female",
          "State": "ND",
          "Total": 17
         },
         {
          "Count": 10,
          "Sex": "Female",
          "State": "NE",
          "Total": 14
         },
         {
          "Count": 5,
          "Sex": "Female",
          "State": "NH",
          "Total": 7
         },
         {
          "Count": 3,
          "Sex": "Female",
          "State": "NJ",
          "Total": 4
         },
         {
          "Count": 0,
          "Sex": "Female",
          "State": "NM",
          "Total": 0
         },
         {
          "Count": 1,
          "Sex": "Female",
          "State": "NV",
          "Total": 2
         },
         {
          "Count": 3,
          "Sex": "Female",
          "State": "NY",
          "Total": 4
         },
         {
          "Count": 4,
          "Sex": "Female",
          "State": "OH",
          "Total": 7
         },
         {
          "Count": 3,
          "Sex": "Female",
          "State": "OK",
          "Total": 5
         },
         {
          "Count": 2,
          "Sex": "Female",
          "State": "OR",
          "Total": 6
         },
         {
          "Count": 3,
          "Sex": "Female",
          "State": "PA",
          "Total": 7
         },
         {
          "Count": 6,
          "Sex": "Female",
          "State": "RI",
          "Total": 9
         },
         {
          "Count": 2,
          "Sex": "Female",
          "State": "SC",
          "Total": 2
         },
         {
          "Count": 3,
          "Sex": "Female",
          "State": "SD",
          "Total": 6
         },
         {
          "Count": 3,
          "Sex": "Female",
          "State": "TN",
          "Total": 4
         },
         {
          "Count": 3,
          "Sex": "Female",
          "State": "TX",
          "Total": 4
         },
         {
          "Count": 8,
          "Sex": "Female",
          "State": "UT",
          "Total": 13
         },
         {
          "Count": 3,
          "Sex": "Female",
          "State": "VA",
          "Total": 5
         },
         {
          "Count": 11,
          "Sex": "Female",
          "State": "VT",
          "Total": 15
         },
         {
          "Count": 6,
          "Sex": "Female",
          "State": "WA",
          "Total": 8
         },
         {
          "Count": 0,
          "Sex": "Female",
          "State": "WI",
          "Total": 4
         },
         {
          "Count": 3,
          "Sex": "Female",
          "State": "WV",
          "Total": 6
         },
         {
          "Count": 7,
          "Sex": "Female",
          "State": "WY",
          "Total": 12
         }
        ]
       },
       "encoding": {
        "color": {
         "field": "Sex",
         "scale": {
          "domain": [
           "Female",
           "Male"
          ],
          "range": [
           "#e377c2",
           "#386cb0"
          ]
         },
         "type": "nominal"
        },
        "tooltip": [
         {
          "field": "State",
          "type": "nominal"
         },
         {
          "field": "Count",
          "type": "quantitative"
         },
         {
          "field": "Total",
          "type": "quantitative"
         }
        ],
        "x": {
         "field": "State",
         "type": "nominal"
        },
        "y": {
         "field": "Count",
         "title": "Total Count",
         "type": "quantitative"
        }
       },
       "height": 481,
       "mark": {
        "opacity": 0.9,
        "type": "bar"
       },
       "title": "Male + Female Earliest Peak Counts",
       "width": 900
      },
      "image/png": "[encoded data removed]",
      "text/plain": [
       "<VegaLite 2 object>\n",
       "\n",
       "If you see this message, it means the renderer has not been properly enabled\n",
       "for the frontend that you are using. For more information, see\n",
       "https://altair-viz.github.io/user_guide/troubleshooting.html\n"
      ]
     },
     "execution_count": 48,
     "metadata": {},
     "output_type": "execute_result"
    }
   ],
   "source": [
    "chart"
   ]
  },
  {
   "cell_type": "markdown",
   "metadata": {},
   "source": [
    "### Findings: \n",
    "Surprising results! Instead of large states like CA or NY being trendsetters (which I hypothesized) ND, VT, ME, NE, UT & WY made up the top 6 overall. This indicates that trendsetting in areas like politics (https://www.cbsnews.com/news/california-is-a-political-trendsetter/) or fashion (https://pursuitist.com/new-york-city-leads-worlds-fashion-capital/) doesn't necessarily spill over to other areas of social life."
   ]
  },
  {
   "cell_type": "markdown",
   "metadata": {},
   "source": [
    "-------------------------------------------------------------------------------------------------------------------------"
   ]
  },
  {
   "cell_type": "markdown",
   "metadata": {},
   "source": [
    "## (3) Trendsetting Metric #2: Avg. Number of Years a State Peaks Before/After Nat'l Median Peak\n",
    "*This may in fact be a better way of quantifying each state's trendsetting power (results were similar to metric # 1, but a clearer regional pattern emerged from this approach)"
   ]
  },
  {
   "cell_type": "code",
   "execution_count": 49,
   "metadata": {},
   "outputs": [],
   "source": [
    "#Storing avg years before/after national median peak for popular names (for each state)\n",
    "avg_diff = {}\n",
    "for sex in ['M', 'F']:\n",
    "    peaks_diff = {}\n",
    "    temp={}\n",
    "    data = male_fem[sex]\n",
    "    for name in data:\n",
    "        peaks = list(data[name].values())\n",
    "        median = np.median(peaks)\n",
    "        state_peak_pairs = list(data[name].items())\n",
    "        for pair in state_peak_pairs:\n",
    "            state = pair[0]\n",
    "            peak = pair[1]\n",
    "            \n",
    "#IMPORTANT: Filtering out outliers (States whose peaks were more than 5 years before national median peak)\n",
    "#*Tweaking the number below (5) will affect what peak year data is included \n",
    "# (since it discards peak years occurring more than 5 yrs before national median)\n",
    "\n",
    "            if abs(peak-median) > 5:\n",
    "                continue\n",
    "            #appending median-peak differences to peaks_diff dictionary    \n",
    "            elif state in peaks_diff:\n",
    "                peaks_diff[state] += [peak-median]\n",
    "            else:\n",
    "                peaks_diff[state] = [peak-median]\n",
    "    #Calculating average peak-median difference for each state \n",
    "    #(negative value indicates avg # of years it peaks before median peak)\n",
    "    for state in peaks_diff:\n",
    "        temp[state] = np.mean(peaks_diff[state])\n",
    "    #Storing avg differences for each sex (in avg_diff dict)\n",
    "    avg_diff[sex] = temp"
   ]
  },
  {
   "cell_type": "markdown",
   "metadata": {},
   "source": [
    "#### Matplotlib Plot:"
   ]
  },
  {
   "cell_type": "code",
   "execution_count": 50,
   "metadata": {},
   "outputs": [
    {
     "data": {
      "image/png": "[encoded data removed]",
      "text/plain": [
       "<matplotlib.figure.Figure at 0x14c803612e8>"
      ]
     },
     "metadata": {},
     "output_type": "display_data"
    }
   ],
   "source": [
    "fig,ax = plt.subplots(2, figsize=(18,12))\n",
    "\n",
    "for index, sex in enumerate(['M','F']):\n",
    "    colors = ['navy','purple']\n",
    "    titles = ['Male','Female']\n",
    "    data = avg_diff[sex]\n",
    "    data = collections.OrderedDict(sorted(data.items()))    \n",
    "    x = [x[0] for x in data.items()]\n",
    "    y = [x[1] for x in data.items()]\n",
    "    \n",
    "    ax[index].bar(x,y, color=colors[index])\n",
    "    ax[index].set_ylabel('Years', fontsize='x-large')\n",
    "    ax[index].axhline(color='k')\n",
    "    ax[index].set_title(titles[index], fontsize='x-large')"
   ]
  },
  {
   "cell_type": "code",
   "execution_count": 51,
   "metadata": {},
   "outputs": [],
   "source": [
    "av_dif = pd.DataFrame([avg_diff['M'], avg_diff['F']], index=['Male','Female'])\n",
    "av_dif = av_dif.transpose()\n",
    "av_dif['Combined'] = (av_dif.Male + av_dif.Female) /2\n",
    "av_dif = av_dif.round(2)\n",
    "av_dif = av_dif.reset_index().rename({'index':'State'}, axis=1)"
   ]
  },
  {
   "cell_type": "code",
   "execution_count": 52,
   "metadata": {},
   "outputs": [],
   "source": [
    "main = alt.Chart(av_dif).mark_bar().encode(\n",
    "    x='State',\n",
    "    y=alt.Y('Combined', title='Years'),\n",
    "    color=(alt.condition(        \n",
    "        alt.datum.Combined < -1,\n",
    "        alt.value('orange'),\n",
    "        alt.value('steelblue'))),\n",
    "    tooltip=['State','Male','Female', 'Combined']\n",
    "    ).properties(width=800, height=565, title=\"Avg # of Years Before/After National Median (0)\")\n",
    "\n",
    "line = alt.Chart(av_dif).mark_line().encode(\n",
    "    x=alt.value(0))\n",
    "\n",
    "chart = main + line"
   ]
  },
  {
   "cell_type": "markdown",
   "metadata": {},
   "source": [
    "#### Altair Plot:\n",
    "*Interactive: Scroll over bars to view state abrev & years before/after median (including breakdown of male & female years)"
   ]
  },
  {
   "cell_type": "code",
   "execution_count": 53,
   "metadata": {},
   "outputs": [
    {
     "data": {
      "application/vnd.vegalite.v2+json": {
       "$schema": "https://vega.github.io/schema/vega-lite/v2.6.0.json",
       "config": {
        "view": {
         "height": 300,
         "width": 400
        }
       },
       "datasets": {
        "data-ef02dd4d6547419e8e03b9d1494720ed": [
         {
          "Combined": -0.01,
          "Female": 0.14,
          "Male": -0.17,
          "State": "AK"
         },
         {
          "Combined": 0.91,
          "Female": 0.82,
          "Male": 1,
          "State": "AL"
         },
         {
          "Combined": 0.73,
          "Female": 1.16,
          "Male": 0.3,
          "State": "AR"
         },
         {
          "Combined": 0.47,
          "Female": -0.02,
          "Male": 0.96,
          "State": "AZ"
         },
         {
          "Combined": -0.16,
          "Female": -0.43,
          "Male": 0.12,
          "State": "CA"
         },
         {
          "Combined": -0.34,
          "Female": -0.42,
          "Male": -0.25,
          "State": "CO"
         },
         {
          "Combined": -0.15,
          "Female": -0.69,
          "Male": 0.4,
          "State": "CT"
         },
         {
          "Combined": -0.12,
          "Female": -0.14,
          "Male": -0.1,
          "State": "DC"
         },
         {
          "Combined": -0.17,
          "Female": -0.52,
          "Male": 0.19,
          "State": "DE"
         },
         {
          "Combined": 1.42,
          "Female": 1.15,
          "Male": 1.69,
          "State": "FL"
         },
         {
          "Combined": 1.23,
          "Female": 0.56,
          "Male": 1.89,
          "State": "GA"
         },
         {
          "Combined": 0.4,
          "Female": 0.45,
          "Male": 0.35,
          "State": "HI"
         },
         {
          "Combined": -1.02,
          "Female": -0.84,
          "Male": -1.21,
          "State": "IA"
         },
         {
          "Combined": -0.49,
          "Female": -0.65,
          "Male": -0.33,
          "State": "ID"
         },
         {
          "Combined": -0.31,
          "Female": -0.33,
          "Male": -0.3,
          "State": "IL"
         },
         {
          "Combined": -0.43,
          "Female": -0.71,
          "Male": -0.16,
          "State": "IN"
         },
         {
          "Combined": -0.49,
          "Female": -0.57,
          "Male": -0.41,
          "State": "KS"
         },
         {
          "Combined": 0.51,
          "Female": 0.63,
          "Male": 0.39,
          "State": "KY"
         },
         {
          "Combined": 0.64,
          "Female": 0.17,
          "Male": 1.12,
          "State": "LA"
         },
         {
          "Combined": -0.32,
          "Female": -0.75,
          "Male": 0.12,
          "State": "MA"
         },
         {
          "Combined": 0.7,
          "Female": 0.4,
          "Male": 1,
          "State": "MD"
         },
         {
          "Combined": -0.53,
          "Female": -0.43,
          "Male": -0.62,
          "State": "ME"
         },
         {
          "Combined": -0.37,
          "Female": -0.51,
          "Male": -0.23,
          "State": "MI"
         },
         {
          "Combined": -0.66,
          "Female": -0.65,
          "Male": -0.67,
          "State": "MN"
         },
         {
          "Combined": -0.05,
          "Female": -0.18,
          "Male": 0.08,
          "State": "MO"
         },
         {
          "Combined": 0.61,
          "Female": 0.61,
          "Male": 0.6,
          "State": "MS"
         },
         {
          "Combined": -0.37,
          "Female": -0.5,
          "Male": -0.24,
          "State": "MT"
         },
         {
          "Combined": 0.26,
          "Female": 0.26,
          "Male": 0.26,
          "State": "NC"
         },
         {
          "Combined": -1.46,
          "Female": -0.83,
          "Male": -2.08,
          "State": "ND"
         },
         {
          "Combined": -1.04,
          "Female": -0.95,
          "Male": -1.12,
          "State": "NE"
         },
         {
          "Combined": 0.04,
          "Female": -0.13,
          "Male": 0.21,
          "State": "NH"
         },
         {
          "Combined": 0.49,
          "Female": 0.11,
          "Male": 0.86,
          "State": "NJ"
         },
         {
          "Combined": 1.12,
          "Female": 1.3,
          "Male": 0.95,
          "State": "NM"
         },
         {
          "Combined": 1.65,
          "Female": 0.74,
          "Male": 2.57,
          "State": "NV"
         },
         {
          "Combined": 0.01,
          "Female": -0.27,
          "Male": 0.28,
          "State": "NY"
         },
         {
          "Combined": -0.63,
          "Female": -0.89,
          "Male": -0.37,
          "State": "OH"
         },
         {
          "Combined": 0.07,
          "Female": -0.04,
          "Male": 0.17,
          "State": "OK"
         },
         {
          "Combined": 0.2,
          "Female": -0.2,
          "Male": 0.6,
          "State": "OR"
         },
         {
          "Combined": -0.34,
          "Female": -0.36,
          "Male": -0.32,
          "State": "PA"
         },
         {
          "Combined": 0.41,
          "Female": 0.08,
          "Male": 0.75,
          "State": "RI"
         },
         {
          "Combined": 0.92,
          "Female": 0.64,
          "Male": 1.21,
          "State": "SC"
         },
         {
          "Combined": -0.73,
          "Female": -0.43,
          "Male": -1.04,
          "State": "SD"
         },
         {
          "Combined": 0.43,
          "Female": 0.66,
          "Male": 0.21,
          "State": "TN"
         },
         {
          "Combined": 1.15,
          "Female": 0.88,
          "Male": 1.43,
          "State": "TX"
         },
         {
          "Combined": -1.16,
          "Female": -1.31,
          "Male": -1,
          "State": "UT"
         },
         {
          "Combined": 0.84,
          "Female": 1.06,
          "Male": 0.62,
          "State": "VA"
         },
         {
          "Combined": -0.68,
          "Female": -0.82,
          "Male": -0.54,
          "State": "VT"
         },
         {
          "Combined": -0.64,
          "Female": -0.54,
          "Male": -0.75,
          "State": "WA"
         },
         {
          "Combined": -0.56,
          "Female": -0.63,
          "Male": -0.48,
          "State": "WI"
         },
         {
          "Combined": 0.27,
          "Female": 0.31,
          "Male": 0.22,
          "State": "WV"
         },
         {
          "Combined": -0.27,
          "Female": -0.13,
          "Male": -0.41,
          "State": "WY"
         }
        ]
       },
       "layer": [
        {
         "data": {
          "name": "data-ef02dd4d6547419e8e03b9d1494720ed"
         },
         "encoding": {
          "color": {
           "condition": {
            "test": "(datum.Combined < -1)",
            "value": "orange"
           },
           "value": "steelblue"
          },
          "tooltip": [
           {
            "field": "State",
            "type": "nominal"
           },
           {
            "field": "Male",
            "type": "quantitative"
           },
           {
            "field": "Female",
            "type": "quantitative"
           },
           {
            "field": "Combined",
            "type": "quantitative"
           }
          ],
          "x": {
           "field": "State",
           "type": "nominal"
          },
          "y": {
           "field": "Combined",
           "title": "Years",
           "type": "quantitative"
          }
         },
         "height": 565,
         "mark": "bar",
         "title": "Avg # of Years Before/After National Median (0)",
         "width": 800
        },
        {
         "data": {
          "name": "data-ef02dd4d6547419e8e03b9d1494720ed"
         },
         "encoding": {
          "x": {
           "value": 0
          }
         },
         "mark": "line"
        }
       ]
      },
      "image/png": "[encoded data removed]",
      "text/plain": [
       "<VegaLite 2 object>\n",
       "\n",
       "If you see this message, it means the renderer has not been properly enabled\n",
       "for the frontend that you are using. For more information, see\n",
       "https://altair-viz.github.io/user_guide/troubleshooting.html\n"
      ]
     },
     "execution_count": 53,
     "metadata": {},
     "output_type": "execute_result"
    }
   ],
   "source": [
    "chart"
   ]
  },
  {
   "cell_type": "markdown",
   "metadata": {},
   "source": [
    "### Findings: \n",
    "(1) Mountain & Midwest regions contain states most ahead of the curve: ND, UT, NE, IA\n",
    "\n",
    "- North Dakota (1.46 years ahead)\n",
    "\n",
    "(2) The South lags behind the most: NV, FL, GA, TX, NM, SC, AL, VA\n",
    "\n",
    "- Nevada (1.65 yrs behind)\n",
    "\n",
    "(3) States consistent w/ national median peak: AK, MO, NH, NY (no apparent regional pattern)\n",
    "### *Curious Finding:\n",
    "Despite Utah being the #2 trendsetter it borders states the #1 lagging state (Nevada). Perhaps exploring this odd reality further will reveal some interesting insights about either state."
   ]
  },
  {
   "cell_type": "markdown",
   "metadata": {},
   "source": [
    "-------------------------------------------------------------------------------------------------------------------------"
   ]
  },
  {
   "cell_type": "markdown",
   "metadata": {},
   "source": [
    "### Map of Trendsetters & Laggers (via Plotly)\n",
    "*Interactive: Scroll over states to view state abrev and avg. years before/after national median (and can also zoom in/out)"
   ]
  },
  {
   "cell_type": "code",
   "execution_count": 54,
   "metadata": {},
   "outputs": [
    {
     "data": {
      "text/html": [
       "<script>requirejs.config({paths: { 'plotly': ['https://cdn.plot.ly/plotly-latest.min']},});if(!window.Plotly) {{require(['plotly'],function(plotly) {window.Plotly=plotly;});}}</script>"
      ],
      "text/vnd.plotly.v1+html": [
       "<script>requirejs.config({paths: { 'plotly': ['https://cdn.plot.ly/plotly-latest.min']},});if(!window.Plotly) {{require(['plotly'],function(plotly) {window.Plotly=plotly;});}}</script>"
      ]
     },
     "metadata": {},
     "output_type": "display_data"
    }
   ],
   "source": [
    "import plotly.plotly as py\n",
    "import plotly.graph_objs as go\n",
    "from plotly.offline import init_notebook_mode, iplot\n",
    "init_notebook_mode(connected=True)"
   ]
  },
  {
   "cell_type": "code",
   "execution_count": 55,
   "metadata": {},
   "outputs": [
    {
     "data": {
      "text/html": [
       "<iframe id=\"igraph\" scrolling=\"no\" style=\"border:none;\" seamless=\"seamless\" src=\"https://plot.ly/~hassenmorad/54.embed\" height=\"525px\" width=\"100%\"></iframe>"
      ],
      "text/plain": [
       "<plotly.tools.PlotlyDisplay object>"
      ]
     },
     "execution_count": 55,
     "metadata": {},
     "output_type": "execute_result"
    }
   ],
   "source": [
    "data = dict(\n",
    "    type='choropleth',\n",
    "    locations=av_dif['State'],\n",
    "    locationmode='USA-states',\n",
    "    colorscale = 'YlGnBu',\n",
    "    z=av_dif['Combined'])\n",
    "\n",
    "lyt = dict(geo=dict(scope='usa'), title='Peak Years Relative To National Median')\n",
    "map = go.Figure(data=[data], layout=lyt)\n",
    "py.iplot(map)"
   ]
  },
  {
   "cell_type": "markdown",
   "metadata": {},
   "source": [
    "*Plot accessible via nbviewer: \n",
    "\n",
    "http://nbviewer.jupyter.org/github/hassenmorad/US_Baby_Names/blob/master/Project%20%231%20%28Baby%20Names%29.ipynb"
   ]
  },
  {
   "cell_type": "markdown",
   "metadata": {},
   "source": [
    "## Closing Remarks:\n",
    "(1) After comparing the functionality of Altair w/ Matplotlib, I will probably make Altair my go-to visualization library from now on.\n",
    "\n",
    "(2) Plotting the data geographically seems to be the most impactful. Since Altair is not currently fully functional in this regard, Plotly will probably be my go-to library for this."
   ]
  }
 ],
 "metadata": {
  "kernelspec": {
   "display_name": "Python 3",
   "language": "python",
   "name": "python3"
  },
  "language_info": {
   "codemirror_mode": {
    "name": "ipython",
    "version": 3
   },
   "file_extension": ".py",
   "mimetype": "text/x-python",
   "name": "python",
   "nbconvert_exporter": "python",
   "pygments_lexer": "ipython3",
   "version": "3.6.2"
  }
 },
 "nbformat": 4,
 "nbformat_minor": 2
}
